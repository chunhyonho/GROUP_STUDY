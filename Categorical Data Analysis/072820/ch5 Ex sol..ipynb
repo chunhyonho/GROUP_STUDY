{
 "cells": [
  {
   "cell_type": "code",
   "execution_count": 138,
   "metadata": {},
   "outputs": [],
   "source": [
    "import pandas as pd\n",
    "import numpy as np\n",
    "import matplotlib.pyplot as plt\n",
    "\n",
    "import statsmodels.api as sm\n",
    "from statsmodels.graphics.api import abline_plot"
   ]
  },
  {
   "cell_type": "markdown",
   "metadata": {},
   "source": [
    "### Exercise 5.3"
   ]
  },
  {
   "cell_type": "code",
   "execution_count": 42,
   "metadata": {},
   "outputs": [],
   "source": [
    "RR = pd.read_csv('../data/RajonRondo.csv')\n",
    "RR.dropna(subset=['G'], inplace =True)\n",
    "RR = RR.loc[:,['Unnamed: 7', 'AST']]\n",
    "RR.rename(columns = {'Unnamed: 7' : 'Win', 'AST' : 'AST'}, inplace = True)"
   ]
  },
  {
   "cell_type": "code",
   "execution_count": 43,
   "metadata": {},
   "outputs": [],
   "source": [
    "def wto1(s):\n",
    "    if s[0] == 'W' :\n",
    "        return 1\n",
    "    else :\n",
    "        return 0\n",
    "    \n",
    "RR['Win'] = RR['Win'].apply(wto1)\n",
    "RR = RR[['AST', 'Win']]"
   ]
  },
  {
   "cell_type": "code",
   "execution_count": 45,
   "metadata": {},
   "outputs": [
    {
     "data": {
      "text/html": [
       "<div>\n",
       "<style scoped>\n",
       "    .dataframe tbody tr th:only-of-type {\n",
       "        vertical-align: middle;\n",
       "    }\n",
       "\n",
       "    .dataframe tbody tr th {\n",
       "        vertical-align: top;\n",
       "    }\n",
       "\n",
       "    .dataframe thead th {\n",
       "        text-align: right;\n",
       "    }\n",
       "</style>\n",
       "<table border=\"1\" class=\"dataframe\">\n",
       "  <thead>\n",
       "    <tr style=\"text-align: right;\">\n",
       "      <th></th>\n",
       "      <th>AST</th>\n",
       "      <th>Win</th>\n",
       "    </tr>\n",
       "  </thead>\n",
       "  <tbody>\n",
       "    <tr>\n",
       "      <th>0</th>\n",
       "      <td>17</td>\n",
       "      <td>1</td>\n",
       "    </tr>\n",
       "    <tr>\n",
       "      <th>1</th>\n",
       "      <td>17</td>\n",
       "      <td>1</td>\n",
       "    </tr>\n",
       "    <tr>\n",
       "      <th>2</th>\n",
       "      <td>13</td>\n",
       "      <td>1</td>\n",
       "    </tr>\n",
       "    <tr>\n",
       "      <th>3</th>\n",
       "      <td>7</td>\n",
       "      <td>0</td>\n",
       "    </tr>\n",
       "    <tr>\n",
       "      <th>7</th>\n",
       "      <td>14</td>\n",
       "      <td>1</td>\n",
       "    </tr>\n",
       "  </tbody>\n",
       "</table>\n",
       "</div>"
      ],
      "text/plain": [
       "  AST  Win\n",
       "0  17    1\n",
       "1  17    1\n",
       "2  13    1\n",
       "3   7    0\n",
       "7  14    1"
      ]
     },
     "execution_count": 45,
     "metadata": {},
     "output_type": "execute_result"
    }
   ],
   "source": [
    "RR.head()"
   ]
  },
  {
   "cell_type": "code",
   "execution_count": 110,
   "metadata": {},
   "outputs": [],
   "source": [
    "ast = RR['AST'].to_numpy().astype(np.int).reshape(-1,1)\n",
    "win = RR['Win'].to_numpy().astype(np.int)\n",
    "n = len(win)\n",
    "lose = np.ones(n)-win\n",
    "win = win.reshape(-1, 1)\n",
    "lose = lose.reshape(-1, 1)\n",
    "result = np.concatenate((win, lose), axis =1)\n",
    "ast = np.concatenate((ast, np.ones((n, 1))), axis = 1)"
   ]
  },
  {
   "cell_type": "code",
   "execution_count": 111,
   "metadata": {
    "scrolled": true
   },
   "outputs": [
    {
     "name": "stdout",
     "output_type": "stream",
     "text": [
      "                 Generalized Linear Model Regression Results                  \n",
      "==============================================================================\n",
      "Dep. Variable:           ['y1', 'y2']   No. Observations:                   68\n",
      "Model:                            GLM   Df Residuals:                       66\n",
      "Model Family:                Binomial   Df Model:                            1\n",
      "Link Function:                  logit   Scale:                          1.0000\n",
      "Method:                          IRLS   Log-Likelihood:                -35.163\n",
      "Date:                Sat, 25 Jul 2020   Deviance:                       70.327\n",
      "Time:                        14:08:57   Pearson chi2:                     63.8\n",
      "No. Iterations:                     5                                         \n",
      "Covariance Type:            nonrobust                                         \n",
      "==============================================================================\n",
      "                 coef    std err          z      P>|z|      [0.025      0.975]\n",
      "------------------------------------------------------------------------------\n",
      "x1             0.2810      0.088      3.188      0.001       0.108       0.454\n",
      "const         -2.0860      0.896     -2.329      0.020      -3.841      -0.331\n",
      "==============================================================================\n"
     ]
    }
   ],
   "source": [
    "logistic_model = sm.GLM(result, ast, family = sm.families.Binomial())\n",
    "res = logistic_model.fit()\n",
    "print(res.summary())"
   ]
  },
  {
   "cell_type": "code",
   "execution_count": 125,
   "metadata": {},
   "outputs": [
    {
     "name": "stdout",
     "output_type": "stream",
     "text": [
      "p(3) = 0.22, p(24) = 0.99\n"
     ]
    }
   ],
   "source": [
    "p3 = res.predict([3, 1])\n",
    "p24 = res.predict([24, 1])\n",
    "print(\"p(3) = %.2f, p(24) = %.2f\" %(p3, p24))"
   ]
  },
  {
   "cell_type": "markdown",
   "metadata": {},
   "source": [
    "### Exercise 5.6"
   ]
  },
  {
   "cell_type": "code",
   "execution_count": 134,
   "metadata": {},
   "outputs": [],
   "source": [
    "Exog = np.array([[1, 66, 1],\n",
    "                [6, 72, 1],\n",
    "                [11, 70, 1],\n",
    "                [16, 75, 1],\n",
    "                [21, 75, 1],\n",
    "                [2, 70, 1],\n",
    "                [7, 73, 1],\n",
    "                [12, 78, 1],\n",
    "                [12, 70, 1],\n",
    "                [22, 76, 1],\n",
    "                [3, 69, 1],\n",
    "                [8, 70, 1],\n",
    "                [13, 67, 1],\n",
    "                [18, 81, 1],\n",
    "                [23, 58, 1],\n",
    "                [4, 68, 1],\n",
    "                [9, 57, 1],\n",
    "                [14, 53, 1],\n",
    "                [19, 76, 1],\n",
    "                [5, 67, 1],\n",
    "                [10, 63, 1],\n",
    "                [15, 67, 1],\n",
    "                [20, 79, 1]])\n",
    "Endg = np.array([0, 0, 1, 0, 1,\n",
    "                1, 0, 0, 0, 0,\n",
    "                0, 0, 0, 0, 1,\n",
    "                0, 1, 1, 0,\n",
    "                0, 1, 0, 0]).reshape(-1, 1)\n",
    "Y = np.concatenate((Endg, np.ones((23, 1))), axis = 1)"
   ]
  },
  {
   "cell_type": "code",
   "execution_count": 135,
   "metadata": {},
   "outputs": [
    {
     "name": "stdout",
     "output_type": "stream",
     "text": [
      "                 Generalized Linear Model Regression Results                  \n",
      "==============================================================================\n",
      "Dep. Variable:           ['y1', 'y2']   No. Observations:                   23\n",
      "Model:                            GLM   Df Residuals:                       21\n",
      "Model Family:                Binomial   Df Model:                            1\n",
      "Link Function:                  logit   Scale:                          1.0000\n",
      "Method:                          IRLS   Log-Likelihood:                -9.8204\n",
      "Date:                Sat, 25 Jul 2020   Deviance:                       9.9367\n",
      "Time:                        14:21:58   Pearson chi2:                     9.35\n",
      "No. Iterations:                     5                                         \n",
      "Covariance Type:            nonrobust                                         \n",
      "==============================================================================\n",
      "                 coef    std err          z      P>|z|      [0.025      0.975]\n",
      "------------------------------------------------------------------------------\n",
      "x1            -0.1059      0.062     -1.719      0.086      -0.227       0.015\n",
      "const          5.8793      4.062      1.448      0.148      -2.081      13.840\n",
      "==============================================================================\n"
     ]
    }
   ],
   "source": [
    "logistic_model = sm.GLM(Y, Exog[:,1:], family = sm.families.Binomial())\n",
    "res = logistic_model.fit()\n",
    "print(res.summary())"
   ]
  },
  {
   "cell_type": "code",
   "execution_count": 153,
   "metadata": {},
   "outputs": [
    {
     "data": {
      "image/png": "[encoded data removed]",
      "text/plain": [
       "<Figure size 432x288 with 1 Axes>"
      ]
     },
     "metadata": {
      "needs_background": "light"
     },
     "output_type": "display_data"
    }
   ],
   "source": [
    "nobs = res.nobs\n",
    "y = Y[:,0]\n",
    "yhat = res.mu\n",
    "\n",
    "myline = np.linspace(10, 90, 100).reshape(-1, 1)\n",
    "x = np.concatenate((myline, np.ones((100, 1))), axis=1)\n",
    "\n",
    "fig, ax = plt.subplots()\n",
    "ax.scatter(Exog[:,1], y)\n",
    "ax.plot(myline, res.predict(x), color = 'red')\n",
    "\n",
    "ax.set_title('Model Fit Plot')\n",
    "ax.set_ylabel('Thermal distress')\n",
    "ax.set_xlabel('Temperature');\n",
    "ax.legend(['fitted model'])\n",
    "plt.show()"
   ]
  },
  {
   "cell_type": "code",
   "execution_count": 154,
   "metadata": {},
   "outputs": [
    {
     "data": {
      "text/plain": [
       "array([0.9306201])"
      ]
     },
     "execution_count": 154,
     "metadata": {},
     "output_type": "execute_result"
    }
   ],
   "source": [
    "res.predict([31, 1])"
   ]
  },
  {
   "cell_type": "markdown",
   "metadata": {},
   "source": [
    "### Exercise 5.9\n",
    "\n",
    "#### Cochran-Armitage Trend Test\n",
    "Cochran은 Pearson statistic($X^2(I)$) 가 다음과 같이 분해됨을 확인했다.\n",
    "\n",
    "$$X^2(I) = z^2 +X^2(L)$$\n",
    "\n",
    "따라서 Pearson's independent test 는 Linear trend를 test($X^2(L)$) 한 후, $H_0 : \\beta=0$을 test($z^2$) 하는 것과 같음. 여기서 $z^2$을 Cochran-Armitage statistic이라고 하는데, 피어슨 테스트와 비교하자면 $X^2(I)$ 는 자유도가 $I-1$ 인 반면 $z^2$는 자유도가 1이다. 따라서 테스트의 파워가 상당히 달라진다. 문제에서 P-value가 상당히 차이가 나는것도 자유도가 다르기 때문."
   ]
  },
  {
   "cell_type": "code",
   "execution_count": 155,
   "metadata": {},
   "outputs": [],
   "source": [
    "X = np.array([[0, 1],\n",
    "             [1, 1],\n",
    "             [2, 1],\n",
    "             [3, 1],\n",
    "             [4, 1]]\n",
    "            )\n",
    "Y = np.array([[1, 11],\n",
    "             [13, 53],\n",
    "             [16, 42],\n",
    "             [15, 27],\n",
    "             [7, 11]])"
   ]
  },
  {
   "cell_type": "code",
   "execution_count": 156,
   "metadata": {},
   "outputs": [
    {
     "name": "stdout",
     "output_type": "stream",
     "text": [
      "                 Generalized Linear Model Regression Results                  \n",
      "==============================================================================\n",
      "Dep. Variable:           ['y1', 'y2']   No. Observations:                    5\n",
      "Model:                            GLM   Df Residuals:                        3\n",
      "Model Family:                Binomial   Df Model:                            1\n",
      "Link Function:                  logit   Scale:                          1.0000\n",
      "Method:                          IRLS   Log-Likelihood:                -9.2375\n",
      "Date:                Sat, 25 Jul 2020   Deviance:                      0.62628\n",
      "Time:                        14:49:52   Pearson chi2:                    0.579\n",
      "No. Iterations:                     4                                         \n",
      "Covariance Type:            nonrobust                                         \n",
      "==============================================================================\n",
      "                 coef    std err          z      P>|z|      [0.025      0.975]\n",
      "------------------------------------------------------------------------------\n",
      "x1             0.3897      0.153      2.543      0.011       0.089       0.690\n",
      "const         -1.8140      0.367     -4.946      0.000      -2.533      -1.095\n",
      "==============================================================================\n"
     ]
    }
   ],
   "source": [
    "logistic_model = sm.GLM(Y, X, family = sm.families.Binomial())\n",
    "res = logistic_model.fit()\n",
    "print(res.summary())"
   ]
  },
  {
   "cell_type": "markdown",
   "metadata": {},
   "source": [
    "### Exercise 5.12"
   ]
  },
  {
   "cell_type": "code",
   "execution_count": 230,
   "metadata": {},
   "outputs": [],
   "source": [
    "f = open('../data/crab.csv',)\n",
    "next(f)\n",
    "dat = []\n",
    "def preprop(line):\n",
    "    y = line[-3]\n",
    "    x = line[:-4].split('  ')\n",
    "    x.append(y)\n",
    "    return x\n",
    "\n",
    "for line in f.readlines():\n",
    "    dat.append(preprop(line))\n",
    "\n",
    "f.close()"
   ]
  },
  {
   "cell_type": "code",
   "execution_count": 237,
   "metadata": {
    "scrolled": true
   },
   "outputs": [],
   "source": [
    "dat = np.array(dat).astype(np.float)\n",
    "X = dat[:, :-1]\n",
    "Y = dat[:,-1]"
   ]
  },
  {
   "cell_type": "code",
   "execution_count": 238,
   "metadata": {},
   "outputs": [
    {
     "name": "stderr",
     "output_type": "stream",
     "text": [
      "/Users/jinhwansuk/opt/anaconda3/lib/python3.7/site-packages/statsmodels/genmod/families/family.py:890: RuntimeWarning: invalid value encountered in true_divide\n",
      "  n_endog_mu = self._clean((1. - endog) / (1. - mu))\n"
     ]
    },
    {
     "ename": "PerfectSeparationError",
     "evalue": "Perfect separation detected, results not available",
     "output_type": "error",
     "traceback": [
      "\u001b[0;31m---------------------------------------------------------------------------\u001b[0m",
      "\u001b[0;31mPerfectSeparationError\u001b[0m                    Traceback (most recent call last)",
      "\u001b[0;32m<ipython-input-238-04f9c659952d>\u001b[0m in \u001b[0;36m<module>\u001b[0;34m\u001b[0m\n\u001b[1;32m      1\u001b[0m \u001b[0mlogistic_model\u001b[0m \u001b[0;34m=\u001b[0m \u001b[0msm\u001b[0m\u001b[0;34m.\u001b[0m\u001b[0mGLM\u001b[0m\u001b[0;34m(\u001b[0m\u001b[0mY\u001b[0m\u001b[0;34m,\u001b[0m \u001b[0mX\u001b[0m\u001b[0;34m,\u001b[0m \u001b[0mfamily\u001b[0m \u001b[0;34m=\u001b[0m \u001b[0msm\u001b[0m\u001b[0;34m.\u001b[0m\u001b[0mfamilies\u001b[0m\u001b[0;34m.\u001b[0m\u001b[0mBinomial\u001b[0m\u001b[0;34m(\u001b[0m\u001b[0;34m)\u001b[0m\u001b[0;34m)\u001b[0m\u001b[0;34m\u001b[0m\u001b[0;34m\u001b[0m\u001b[0m\n\u001b[0;32m----> 2\u001b[0;31m \u001b[0mres\u001b[0m \u001b[0;34m=\u001b[0m \u001b[0mlogistic_model\u001b[0m\u001b[0;34m.\u001b[0m\u001b[0mfit\u001b[0m\u001b[0;34m(\u001b[0m\u001b[0;34m)\u001b[0m\u001b[0;34m\u001b[0m\u001b[0;34m\u001b[0m\u001b[0m\n\u001b[0m\u001b[1;32m      3\u001b[0m \u001b[0mprint\u001b[0m\u001b[0;34m(\u001b[0m\u001b[0mres\u001b[0m\u001b[0;34m.\u001b[0m\u001b[0msummary\u001b[0m\u001b[0;34m(\u001b[0m\u001b[0;34m)\u001b[0m\u001b[0;34m)\u001b[0m\u001b[0;34m\u001b[0m\u001b[0;34m\u001b[0m\u001b[0m\n",
      "\u001b[0;32m~/opt/anaconda3/lib/python3.7/site-packages/statsmodels/genmod/generalized_linear_model.py\u001b[0m in \u001b[0;36mfit\u001b[0;34m(self, start_params, maxiter, method, tol, scale, cov_type, cov_kwds, use_t, full_output, disp, max_start_irls, **kwargs)\u001b[0m\n\u001b[1;32m   1026\u001b[0m             return self._fit_irls(start_params=start_params, maxiter=maxiter,\n\u001b[1;32m   1027\u001b[0m                                   \u001b[0mtol\u001b[0m\u001b[0;34m=\u001b[0m\u001b[0mtol\u001b[0m\u001b[0;34m,\u001b[0m \u001b[0mscale\u001b[0m\u001b[0;34m=\u001b[0m\u001b[0mscale\u001b[0m\u001b[0;34m,\u001b[0m \u001b[0mcov_type\u001b[0m\u001b[0;34m=\u001b[0m\u001b[0mcov_type\u001b[0m\u001b[0;34m,\u001b[0m\u001b[0;34m\u001b[0m\u001b[0;34m\u001b[0m\u001b[0m\n\u001b[0;32m-> 1028\u001b[0;31m                                   cov_kwds=cov_kwds, use_t=use_t, **kwargs)\n\u001b[0m\u001b[1;32m   1029\u001b[0m         \u001b[0;32melse\u001b[0m\u001b[0;34m:\u001b[0m\u001b[0;34m\u001b[0m\u001b[0;34m\u001b[0m\u001b[0m\n\u001b[1;32m   1030\u001b[0m             \u001b[0mself\u001b[0m\u001b[0;34m.\u001b[0m\u001b[0m_optim_hessian\u001b[0m \u001b[0;34m=\u001b[0m \u001b[0mkwargs\u001b[0m\u001b[0;34m.\u001b[0m\u001b[0mget\u001b[0m\u001b[0;34m(\u001b[0m\u001b[0;34m'optim_hessian'\u001b[0m\u001b[0;34m)\u001b[0m\u001b[0;34m\u001b[0m\u001b[0;34m\u001b[0m\u001b[0m\n",
      "\u001b[0;32m~/opt/anaconda3/lib/python3.7/site-packages/statsmodels/genmod/generalized_linear_model.py\u001b[0m in \u001b[0;36m_fit_irls\u001b[0;34m(self, start_params, maxiter, tol, scale, cov_type, cov_kwds, use_t, **kwargs)\u001b[0m\n\u001b[1;32m   1173\u001b[0m             \u001b[0;32mif\u001b[0m \u001b[0mendog\u001b[0m\u001b[0;34m.\u001b[0m\u001b[0msqueeze\u001b[0m\u001b[0;34m(\u001b[0m\u001b[0;34m)\u001b[0m\u001b[0;34m.\u001b[0m\u001b[0mndim\u001b[0m \u001b[0;34m==\u001b[0m \u001b[0;36m1\u001b[0m \u001b[0;32mand\u001b[0m \u001b[0mnp\u001b[0m\u001b[0;34m.\u001b[0m\u001b[0mallclose\u001b[0m\u001b[0;34m(\u001b[0m\u001b[0mmu\u001b[0m \u001b[0;34m-\u001b[0m \u001b[0mendog\u001b[0m\u001b[0;34m,\u001b[0m \u001b[0;36m0\u001b[0m\u001b[0;34m)\u001b[0m\u001b[0;34m:\u001b[0m\u001b[0;34m\u001b[0m\u001b[0;34m\u001b[0m\u001b[0m\n\u001b[1;32m   1174\u001b[0m                 \u001b[0mmsg\u001b[0m \u001b[0;34m=\u001b[0m \u001b[0;34m\"Perfect separation detected, results not available\"\u001b[0m\u001b[0;34m\u001b[0m\u001b[0;34m\u001b[0m\u001b[0m\n\u001b[0;32m-> 1175\u001b[0;31m                 \u001b[0;32mraise\u001b[0m \u001b[0mPerfectSeparationError\u001b[0m\u001b[0;34m(\u001b[0m\u001b[0mmsg\u001b[0m\u001b[0;34m)\u001b[0m\u001b[0;34m\u001b[0m\u001b[0;34m\u001b[0m\u001b[0m\n\u001b[0m\u001b[1;32m   1176\u001b[0m             converged = _check_convergence(criterion, iteration + 1, atol,\n\u001b[1;32m   1177\u001b[0m                                            rtol)\n",
      "\u001b[0;31mPerfectSeparationError\u001b[0m: Perfect separation detected, results not available"
     ]
    }
   ],
   "source": [
    "logistic_model = sm.GLM(Y, X, family = sm.families.Binomial())\n",
    "res = logistic_model.fit()\n",
    "print(res.summary())"
   ]
  },
  {
   "cell_type": "code",
   "execution_count": 235,
   "metadata": {},
   "outputs": [],
   "source": []
  },
  {
   "cell_type": "code",
   "execution_count": 236,
   "metadata": {},
   "outputs": [
    {
     "data": {
      "text/plain": [
       "array([[3.000e+00, 3.000e+00, 2.830e+01, 8.000e+00, 3.050e+03],\n",
       "       [4.000e+00, 3.000e+00, 2.250e+01, 0.000e+00, 1.550e+03],\n",
       "       [2.000e+00, 1.000e+00, 2.600e+01, 9.000e+00, 2.300e+03],\n",
       "       [4.000e+00, 3.000e+00, 2.480e+01, 0.000e+00, 2.100e+03],\n",
       "       [4.000e+00, 3.000e+00, 2.600e+01, 4.000e+00, 2.600e+03],\n",
       "       [3.000e+00, 3.000e+00, 2.380e+01, 0.000e+00, 2.100e+03],\n",
       "       [2.000e+00, 1.000e+00, 2.650e+01, 0.000e+00, 2.350e+03],\n",
       "       [4.000e+00, 2.000e+00, 2.470e+01, 0.000e+00, 1.900e+03],\n",
       "       [3.000e+00, 1.000e+00, 2.370e+01, 0.000e+00, 1.950e+03],\n",
       "       [4.000e+00, 3.000e+00, 2.560e+01, 0.000e+00, 2.150e+03],\n",
       "       [4.000e+00, 3.000e+00, 2.430e+01, 0.000e+00, 2.150e+03],\n",
       "       [3.000e+00, 3.000e+00, 2.580e+01, 0.000e+00, 2.650e+03],\n",
       "       [3.000e+00, 3.000e+00, 2.820e+01, 1.100e+01, 3.050e+03],\n",
       "       [5.000e+00, 2.000e+00, 2.100e+01, 0.000e+00, 1.850e+03],\n",
       "       [3.000e+00, 1.000e+00, 2.600e+01, 1.400e+01, 2.300e+03],\n",
       "       [2.000e+00, 1.000e+00, 2.710e+01, 8.000e+00, 2.950e+03],\n",
       "       [3.000e+00, 3.000e+00, 2.520e+01, 1.000e+00, 2.000e+03],\n",
       "       [3.000e+00, 3.000e+00, 2.900e+01, 1.000e+00, 3.000e+03],\n",
       "       [5.000e+00, 3.000e+00, 2.470e+01, 0.000e+00, 2.200e+03],\n",
       "       [3.000e+00, 3.000e+00, 2.740e+01, 5.000e+00, 2.700e+03],\n",
       "       [3.000e+00, 2.000e+00, 2.320e+01, 4.000e+00, 1.950e+03],\n",
       "       [2.000e+00, 2.000e+00, 2.500e+01, 3.000e+00, 2.300e+03],\n",
       "       [3.000e+00, 1.000e+00, 2.250e+01, 1.000e+00, 1.600e+03],\n",
       "       [4.000e+00, 3.000e+00, 2.670e+01, 2.000e+00, 2.600e+03],\n",
       "       [5.000e+00, 3.000e+00, 2.580e+01, 3.000e+00, 2.000e+03],\n",
       "       [5.000e+00, 3.000e+00, 2.620e+01, 0.000e+00, 1.300e+03],\n",
       "       [3.000e+00, 3.000e+00, 2.870e+01, 3.000e+00, 3.150e+03],\n",
       "       [3.000e+00, 1.000e+00, 2.680e+01, 5.000e+00, 2.700e+03],\n",
       "       [5.000e+00, 3.000e+00, 2.750e+01, 0.000e+00, 2.600e+03],\n",
       "       [3.000e+00, 3.000e+00, 2.490e+01, 0.000e+00, 2.100e+03],\n",
       "       [2.000e+00, 1.000e+00, 2.930e+01, 4.000e+00, 3.200e+03],\n",
       "       [2.000e+00, 3.000e+00, 2.580e+01, 0.000e+00, 2.600e+03],\n",
       "       [3.000e+00, 2.000e+00, 2.570e+01, 0.000e+00, 2.000e+03],\n",
       "       [3.000e+00, 1.000e+00, 2.570e+01, 8.000e+00, 2.000e+03],\n",
       "       [3.000e+00, 1.000e+00, 2.670e+01, 5.000e+00, 2.700e+03],\n",
       "       [5.000e+00, 3.000e+00, 2.370e+01, 0.000e+00, 1.850e+03],\n",
       "       [3.000e+00, 3.000e+00, 2.680e+01, 0.000e+00, 2.650e+03],\n",
       "       [3.000e+00, 3.000e+00, 2.750e+01, 6.000e+00, 3.150e+03],\n",
       "       [5.000e+00, 3.000e+00, 2.340e+01, 0.000e+00, 1.900e+03],\n",
       "       [3.000e+00, 3.000e+00, 2.790e+01, 6.000e+00, 2.800e+03],\n",
       "       [4.000e+00, 3.000e+00, 2.750e+01, 3.000e+00, 3.100e+03],\n",
       "       [2.000e+00, 1.000e+00, 2.610e+01, 5.000e+00, 2.800e+03],\n",
       "       [2.000e+00, 1.000e+00, 2.770e+01, 6.000e+00, 2.500e+03],\n",
       "       [3.000e+00, 1.000e+00, 3.000e+01, 5.000e+00, 3.300e+03],\n",
       "       [4.000e+00, 1.000e+00, 2.850e+01, 9.000e+00, 3.250e+03],\n",
       "       [4.000e+00, 3.000e+00, 2.890e+01, 4.000e+00, 2.800e+03],\n",
       "       [3.000e+00, 3.000e+00, 2.820e+01, 6.000e+00, 2.600e+03],\n",
       "       [3.000e+00, 3.000e+00, 2.500e+01, 4.000e+00, 2.100e+03],\n",
       "       [3.000e+00, 3.000e+00, 2.850e+01, 3.000e+00, 3.000e+03],\n",
       "       [3.000e+00, 1.000e+00, 3.030e+01, 3.000e+00, 3.600e+03],\n",
       "       [5.000e+00, 3.000e+00, 2.470e+01, 5.000e+00, 2.100e+03],\n",
       "       [3.000e+00, 3.000e+00, 2.770e+01, 5.000e+00, 2.900e+03],\n",
       "       [2.000e+00, 1.000e+00, 2.740e+01, 6.000e+00, 2.700e+03],\n",
       "       [3.000e+00, 3.000e+00, 2.290e+01, 4.000e+00, 1.600e+03],\n",
       "       [3.000e+00, 1.000e+00, 2.570e+01, 5.000e+00, 2.000e+03],\n",
       "       [3.000e+00, 3.000e+00, 2.830e+01, 1.500e+01, 3.000e+03],\n",
       "       [3.000e+00, 3.000e+00, 2.720e+01, 3.000e+00, 2.700e+03],\n",
       "       [4.000e+00, 3.000e+00, 2.620e+01, 3.000e+00, 2.300e+03],\n",
       "       [3.000e+00, 1.000e+00, 2.780e+01, 0.000e+00, 2.750e+03],\n",
       "       [5.000e+00, 3.000e+00, 2.550e+01, 0.000e+00, 2.250e+03],\n",
       "       [4.000e+00, 3.000e+00, 2.710e+01, 0.000e+00, 2.550e+03],\n",
       "       [4.000e+00, 3.000e+00, 2.450e+01, 5.000e+00, 2.050e+03],\n",
       "       [4.000e+00, 1.000e+00, 2.700e+01, 3.000e+00, 2.450e+03],\n",
       "       [3.000e+00, 3.000e+00, 2.600e+01, 5.000e+00, 2.150e+03],\n",
       "       [3.000e+00, 3.000e+00, 2.800e+01, 1.000e+00, 2.800e+03],\n",
       "       [3.000e+00, 3.000e+00, 3.000e+01, 8.000e+00, 3.050e+03],\n",
       "       [3.000e+00, 3.000e+00, 2.900e+01, 1.000e+01, 3.200e+03],\n",
       "       [3.000e+00, 3.000e+00, 2.620e+01, 0.000e+00, 2.400e+03],\n",
       "       [3.000e+00, 1.000e+00, 2.650e+01, 0.000e+00, 1.300e+03],\n",
       "       [3.000e+00, 3.000e+00, 2.620e+01, 3.000e+00, 2.400e+03],\n",
       "       [4.000e+00, 3.000e+00, 2.560e+01, 7.000e+00, 2.800e+03],\n",
       "       [4.000e+00, 3.000e+00, 2.300e+01, 1.000e+00, 1.650e+03],\n",
       "       [4.000e+00, 3.000e+00, 2.300e+01, 0.000e+00, 1.800e+03],\n",
       "       [3.000e+00, 3.000e+00, 2.540e+01, 6.000e+00, 2.250e+03],\n",
       "       [4.000e+00, 3.000e+00, 2.420e+01, 0.000e+00, 1.900e+03],\n",
       "       [3.000e+00, 2.000e+00, 2.290e+01, 0.000e+00, 1.600e+03],\n",
       "       [4.000e+00, 2.000e+00, 2.600e+01, 3.000e+00, 2.200e+03],\n",
       "       [3.000e+00, 3.000e+00, 2.540e+01, 4.000e+00, 2.250e+03],\n",
       "       [4.000e+00, 3.000e+00, 2.570e+01, 0.000e+00, 1.200e+03],\n",
       "       [3.000e+00, 3.000e+00, 2.510e+01, 5.000e+00, 2.100e+03],\n",
       "       [4.000e+00, 2.000e+00, 2.450e+01, 0.000e+00, 2.250e+03],\n",
       "       [5.000e+00, 3.000e+00, 2.750e+01, 0.000e+00, 2.900e+03],\n",
       "       [4.000e+00, 3.000e+00, 2.310e+01, 0.000e+00, 1.650e+03],\n",
       "       [4.000e+00, 1.000e+00, 2.590e+01, 4.000e+00, 2.550e+03],\n",
       "       [3.000e+00, 3.000e+00, 2.580e+01, 0.000e+00, 2.300e+03],\n",
       "       [5.000e+00, 3.000e+00, 2.700e+01, 3.000e+00, 2.250e+03],\n",
       "       [3.000e+00, 3.000e+00, 2.850e+01, 0.000e+00, 3.050e+03],\n",
       "       [5.000e+00, 1.000e+00, 2.550e+01, 0.000e+00, 2.750e+03],\n",
       "       [5.000e+00, 3.000e+00, 2.350e+01, 0.000e+00, 1.900e+03],\n",
       "       [3.000e+00, 2.000e+00, 2.400e+01, 0.000e+00, 1.700e+03],\n",
       "       [3.000e+00, 1.000e+00, 2.970e+01, 5.000e+00, 3.850e+03],\n",
       "       [3.000e+00, 1.000e+00, 2.680e+01, 0.000e+00, 2.550e+03],\n",
       "       [5.000e+00, 3.000e+00, 2.670e+01, 0.000e+00, 2.450e+03],\n",
       "       [3.000e+00, 1.000e+00, 2.870e+01, 0.000e+00, 3.200e+03],\n",
       "       [4.000e+00, 3.000e+00, 2.310e+01, 0.000e+00, 1.550e+03],\n",
       "       [3.000e+00, 1.000e+00, 2.900e+01, 1.000e+00, 2.800e+03],\n",
       "       [4.000e+00, 3.000e+00, 2.550e+01, 0.000e+00, 2.250e+03],\n",
       "       [4.000e+00, 3.000e+00, 2.650e+01, 1.000e+00, 1.967e+03],\n",
       "       [4.000e+00, 3.000e+00, 2.450e+01, 1.000e+00, 2.200e+03],\n",
       "       [4.000e+00, 3.000e+00, 2.850e+01, 1.000e+00, 3.000e+03],\n",
       "       [3.000e+00, 3.000e+00, 2.820e+01, 1.000e+00, 2.867e+03],\n",
       "       [3.000e+00, 3.000e+00, 2.450e+01, 1.000e+00, 1.600e+03],\n",
       "       [3.000e+00, 3.000e+00, 2.750e+01, 1.000e+00, 2.550e+03],\n",
       "       [3.000e+00, 2.000e+00, 2.470e+01, 4.000e+00, 2.550e+03],\n",
       "       [3.000e+00, 1.000e+00, 2.520e+01, 1.000e+00, 2.000e+03],\n",
       "       [4.000e+00, 3.000e+00, 2.730e+01, 1.000e+00, 2.900e+03],\n",
       "       [3.000e+00, 3.000e+00, 2.630e+01, 1.000e+00, 2.400e+03],\n",
       "       [3.000e+00, 3.000e+00, 2.900e+01, 1.000e+00, 3.100e+03],\n",
       "       [3.000e+00, 3.000e+00, 2.530e+01, 2.000e+00, 1.900e+03],\n",
       "       [3.000e+00, 3.000e+00, 2.650e+01, 4.000e+00, 2.300e+03],\n",
       "       [3.000e+00, 3.000e+00, 2.780e+01, 3.000e+00, 3.250e+03],\n",
       "       [3.000e+00, 3.000e+00, 2.700e+01, 6.000e+00, 2.500e+03],\n",
       "       [4.000e+00, 3.000e+00, 2.570e+01, 0.000e+00, 2.100e+03],\n",
       "       [3.000e+00, 3.000e+00, 2.500e+01, 2.000e+00, 2.100e+03],\n",
       "       [3.000e+00, 3.000e+00, 3.190e+01, 2.000e+00, 3.325e+03],\n",
       "       [5.000e+00, 3.000e+00, 2.370e+01, 0.000e+00, 1.800e+03],\n",
       "       [5.000e+00, 3.000e+00, 2.930e+01, 1.200e+01, 3.225e+03],\n",
       "       [4.000e+00, 3.000e+00, 2.200e+01, 0.000e+00, 1.400e+03],\n",
       "       [3.000e+00, 3.000e+00, 2.500e+01, 5.000e+00, 2.400e+03],\n",
       "       [4.000e+00, 3.000e+00, 2.700e+01, 6.000e+00, 2.500e+03],\n",
       "       [4.000e+00, 3.000e+00, 2.380e+01, 6.000e+00, 1.800e+03],\n",
       "       [2.000e+00, 1.000e+00, 3.020e+01, 2.000e+00, 3.275e+03],\n",
       "       [4.000e+00, 3.000e+00, 2.620e+01, 0.000e+00, 2.225e+03],\n",
       "       [3.000e+00, 3.000e+00, 2.420e+01, 2.000e+00, 1.650e+03],\n",
       "       [3.000e+00, 3.000e+00, 2.740e+01, 3.000e+00, 2.900e+03],\n",
       "       [3.000e+00, 2.000e+00, 2.540e+01, 0.000e+00, 2.300e+03],\n",
       "       [4.000e+00, 3.000e+00, 2.840e+01, 3.000e+00, 3.200e+03],\n",
       "       [5.000e+00, 3.000e+00, 2.250e+01, 4.000e+00, 1.475e+03],\n",
       "       [3.000e+00, 3.000e+00, 2.620e+01, 2.000e+00, 2.025e+03],\n",
       "       [3.000e+00, 1.000e+00, 2.490e+01, 6.000e+00, 2.300e+03],\n",
       "       [2.000e+00, 2.000e+00, 2.450e+01, 6.000e+00, 1.950e+03],\n",
       "       [3.000e+00, 3.000e+00, 2.510e+01, 0.000e+00, 1.800e+03],\n",
       "       [3.000e+00, 1.000e+00, 2.800e+01, 4.000e+00, 2.900e+03],\n",
       "       [5.000e+00, 3.000e+00, 2.580e+01, 1.000e+01, 2.250e+03],\n",
       "       [3.000e+00, 3.000e+00, 2.790e+01, 7.000e+00, 3.050e+03],\n",
       "       [3.000e+00, 3.000e+00, 2.490e+01, 0.000e+00, 2.200e+03],\n",
       "       [3.000e+00, 1.000e+00, 2.840e+01, 5.000e+00, 3.100e+03],\n",
       "       [4.000e+00, 3.000e+00, 2.720e+01, 5.000e+00, 2.400e+03],\n",
       "       [3.000e+00, 2.000e+00, 2.500e+01, 6.000e+00, 2.250e+03],\n",
       "       [3.000e+00, 3.000e+00, 2.750e+01, 6.000e+00, 2.625e+03],\n",
       "       [3.000e+00, 1.000e+00, 3.350e+01, 7.000e+00, 5.200e+03],\n",
       "       [3.000e+00, 3.000e+00, 3.050e+01, 3.000e+00, 3.325e+03],\n",
       "       [4.000e+00, 3.000e+00, 2.900e+01, 3.000e+00, 2.925e+03],\n",
       "       [3.000e+00, 1.000e+00, 2.430e+01, 0.000e+00, 2.000e+03],\n",
       "       [3.000e+00, 3.000e+00, 2.580e+01, 0.000e+00, 2.400e+03],\n",
       "       [5.000e+00, 3.000e+00, 2.500e+01, 8.000e+00, 2.100e+03],\n",
       "       [3.000e+00, 1.000e+00, 3.170e+01, 4.000e+00, 3.725e+03],\n",
       "       [3.000e+00, 3.000e+00, 2.950e+01, 4.000e+00, 3.025e+03],\n",
       "       [4.000e+00, 3.000e+00, 2.400e+01, 1.000e+01, 1.900e+03],\n",
       "       [3.000e+00, 3.000e+00, 3.000e+01, 9.000e+00, 3.000e+03],\n",
       "       [3.000e+00, 3.000e+00, 2.760e+01, 4.000e+00, 2.850e+03],\n",
       "       [3.000e+00, 3.000e+00, 2.620e+01, 0.000e+00, 2.300e+03],\n",
       "       [3.000e+00, 1.000e+00, 2.310e+01, 0.000e+00, 2.000e+03],\n",
       "       [3.000e+00, 1.000e+00, 2.290e+01, 0.000e+00, 1.600e+03],\n",
       "       [5.000e+00, 3.000e+00, 2.450e+01, 0.000e+00, 1.900e+03],\n",
       "       [3.000e+00, 3.000e+00, 2.470e+01, 4.000e+00, 1.950e+03],\n",
       "       [3.000e+00, 3.000e+00, 2.830e+01, 0.000e+00, 3.200e+03],\n",
       "       [3.000e+00, 3.000e+00, 2.390e+01, 2.000e+00, 1.850e+03],\n",
       "       [4.000e+00, 3.000e+00, 2.380e+01, 0.000e+00, 1.800e+03],\n",
       "       [4.000e+00, 2.000e+00, 2.980e+01, 4.000e+00, 3.500e+03],\n",
       "       [3.000e+00, 3.000e+00, 2.650e+01, 4.000e+00, 2.350e+03],\n",
       "       [3.000e+00, 3.000e+00, 2.600e+01, 3.000e+00, 2.275e+03],\n",
       "       [3.000e+00, 3.000e+00, 2.820e+01, 8.000e+00, 3.050e+03],\n",
       "       [5.000e+00, 3.000e+00, 2.570e+01, 0.000e+00, 2.150e+03],\n",
       "       [3.000e+00, 3.000e+00, 2.650e+01, 7.000e+00, 2.750e+03],\n",
       "       [3.000e+00, 3.000e+00, 2.580e+01, 0.000e+00, 2.200e+03],\n",
       "       [4.000e+00, 3.000e+00, 2.410e+01, 0.000e+00, 1.800e+03],\n",
       "       [4.000e+00, 3.000e+00, 2.620e+01, 2.000e+00, 2.175e+03],\n",
       "       [4.000e+00, 3.000e+00, 2.610e+01, 3.000e+00, 2.750e+03],\n",
       "       [4.000e+00, 3.000e+00, 2.900e+01, 4.000e+00, 3.275e+03],\n",
       "       [2.000e+00, 1.000e+00, 2.800e+01, 0.000e+00, 2.625e+03],\n",
       "       [5.000e+00, 3.000e+00, 2.700e+01, 0.000e+00, 2.625e+03],\n",
       "       [3.000e+00, 2.000e+00, 2.450e+01, 0.000e+00, 2.000e+03]])"
      ]
     },
     "execution_count": 236,
     "metadata": {},
     "output_type": "execute_result"
    }
   ],
   "source": [
    "X"
   ]
  },
  {
   "cell_type": "markdown",
   "metadata": {},
   "source": [
    "### Exercise 5.27\n",
    "By Ex. 5.25"
   ]
  },
  {
   "cell_type": "markdown",
   "metadata": {},
   "source": [
    "### Exercise 5.30\n",
    "$$\n",
    "\\begin{aligned}\n",
    "    P(Y=1|x) &= \\frac{P(x|Y=1)P(Y=1)}{P(x|Y=1)P(Y=1)+P(x|Y=0)P(Y=0)}\\\\\n",
    "             &= \\frac{\\frac{1}{\\sqrt{2\\pi}\\sigma}\\exp(-\\frac{1}{2\\sigma^2}(x-\\mu_1)^2)\\pi_1}{\\frac{1}{\\sqrt{2\\pi}}\\exp(-\\frac{1}{2\\sigma^2}(x-\\mu_1)^2)\\pi_1+\\frac{1}{\\sqrt{2\\pi}}\\exp(-\\frac{1}{2\\sigma^2}(x-\\mu_0)^2)\\pi_0}\n",
    "\\end{aligned}\n",
    "$$\n",
    "So, we have\n",
    "$$logit(P(Y=1|x)) = \\beta_1x+\\alpha$$\n",
    "\n",
    "If, $\\sigma_0\\neq\\sigma_1$, the logistic model becomes\n",
    "$$logit(P(Y=1|x)) = \\beta_2x^2+\\beta_1x+\\alpha$$"
   ]
  },
  {
   "cell_type": "code",
   "execution_count": null,
   "metadata": {},
   "outputs": [],
   "source": []
  }
 ],
 "metadata": {
  "kernelspec": {
   "display_name": "Python 3",
   "language": "python",
   "name": "python3"
  },
  "language_info": {
   "codemirror_mode": {
    "name": "ipython",
    "version": 3
   },
   "file_extension": ".py",
   "mimetype": "text/x-python",
   "name": "python",
   "nbconvert_exporter": "python",
   "pygments_lexer": "ipython3",
   "version": "3.7.4"
  }
 },
 "nbformat": 4,
 "nbformat_minor": 2
}
