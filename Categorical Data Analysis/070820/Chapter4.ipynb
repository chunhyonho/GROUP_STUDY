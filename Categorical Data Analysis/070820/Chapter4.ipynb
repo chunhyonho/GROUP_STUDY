{
 "cells": [
  {
   "cell_type": "code",
   "execution_count": 2,
   "metadata": {},
   "outputs": [],
   "source": [
    "snoring <- matrix(c(24, 1355, 35, 603, 21, 192, 30, 224), ncol = 2, byrow = TRUE)\n",
    "scores <- c(0, 2, 4, 5)"
   ]
  },
  {
   "cell_type": "code",
   "execution_count": 3,
   "metadata": {},
   "outputs": [],
   "source": [
    "snoring.fit <- glm(snoring ~ scores, family = binomial(link = logit))"
   ]
  },
  {
   "cell_type": "code",
   "execution_count": 5,
   "metadata": {},
   "outputs": [
    {
     "data": {
      "text/html": [
       "<table>\n",
       "<tbody>\n",
       "\t<tr><td>24  </td><td>1355</td></tr>\n",
       "\t<tr><td>35  </td><td> 603</td></tr>\n",
       "\t<tr><td>21  </td><td> 192</td></tr>\n",
       "\t<tr><td>30  </td><td> 224</td></tr>\n",
       "</tbody>\n",
       "</table>\n"
      ],
      "text/latex": [
       "\\begin{tabular}{ll}\n",
       "\t 24   & 1355\\\\\n",
       "\t 35   &  603\\\\\n",
       "\t 21   &  192\\\\\n",
       "\t 30   &  224\\\\\n",
       "\\end{tabular}\n"
      ],
      "text/markdown": [
       "\n",
       "| 24   | 1355 |\n",
       "| 35   |  603 |\n",
       "| 21   |  192 |\n",
       "| 30   |  224 |\n",
       "\n"
      ],
      "text/plain": [
       "     [,1] [,2]\n",
       "[1,] 24   1355\n",
       "[2,] 35    603\n",
       "[3,] 21    192\n",
       "[4,] 30    224"
      ]
     },
     "metadata": {},
     "output_type": "display_data"
    }
   ],
   "source": [
    "snoring"
   ]
  },
  {
   "cell_type": "code",
   "execution_count": 4,
   "metadata": {},
   "outputs": [
    {
     "data": {
      "text/plain": [
       "\n",
       "Call:\n",
       "glm(formula = snoring ~ scores, family = binomial(link = logit))\n",
       "\n",
       "Deviance Residuals: \n",
       "      1        2        3        4  \n",
       "-0.8346   1.2521   0.2758  -0.6845  \n",
       "\n",
       "Coefficients:\n",
       "            Estimate Std. Error z value Pr(>|z|)    \n",
       "(Intercept) -3.86625    0.16621 -23.261  < 2e-16 ***\n",
       "scores       0.39734    0.05001   7.945 1.94e-15 ***\n",
       "---\n",
       "Signif. codes:  0 ‘***’ 0.001 ‘**’ 0.01 ‘*’ 0.05 ‘.’ 0.1 ‘ ’ 1\n",
       "\n",
       "(Dispersion parameter for binomial family taken to be 1)\n",
       "\n",
       "    Null deviance: 65.9045  on 3  degrees of freedom\n",
       "Residual deviance:  2.8089  on 2  degrees of freedom\n",
       "AIC: 27.061\n",
       "\n",
       "Number of Fisher Scoring iterations: 4\n"
      ]
     },
     "metadata": {},
     "output_type": "display_data"
    }
   ],
   "source": [
    "summary(snoring.fit)"
   ]
  },
  {
   "cell_type": "code",
   "execution_count": 6,
   "metadata": {},
   "outputs": [
    {
     "data": {
      "text/html": [
       "<dl class=dl-horizontal>\n",
       "\t<dt>1</dt>\n",
       "\t\t<dd>0.0205074157578526</dd>\n",
       "\t<dt>2</dt>\n",
       "\t\t<dd>0.0442951110683368</dd>\n",
       "\t<dt>3</dt>\n",
       "\t\t<dd>0.0930541115718753</dd>\n",
       "\t<dt>4</dt>\n",
       "\t\t<dd>0.132438846628003</dd>\n",
       "</dl>\n"
      ],
      "text/latex": [
       "\\begin{description*}\n",
       "\\item[1] 0.0205074157578526\n",
       "\\item[2] 0.0442951110683368\n",
       "\\item[3] 0.0930541115718753\n",
       "\\item[4] 0.132438846628003\n",
       "\\end{description*}\n"
      ],
      "text/markdown": [
       "1\n",
       ":   0.02050741575785262\n",
       ":   0.04429511106833683\n",
       ":   0.09305411157187534\n",
       ":   0.132438846628003\n",
       "\n"
      ],
      "text/plain": [
       "         1          2          3          4 \n",
       "0.02050742 0.04429511 0.09305411 0.13243885 "
      ]
     },
     "metadata": {},
     "output_type": "display_data"
    }
   ],
   "source": [
    "fitted(snoring.fit)"
   ]
  },
  {
   "cell_type": "code",
   "execution_count": 21,
   "metadata": {},
   "outputs": [
    {
     "data": {
      "text/html": [
       "<table>\n",
       "<thead><tr><th scope=col>color</th><th scope=col>spine</th><th scope=col>width</th><th scope=col>satell</th><th scope=col>weight</th><th scope=col>y</th></tr></thead>\n",
       "<tbody>\n",
       "\t<tr><td>3   </td><td>3   </td><td>28.3</td><td>8   </td><td>3050</td><td>1   </td></tr>\n",
       "\t<tr><td>4   </td><td>3   </td><td>22.5</td><td>0   </td><td>1550</td><td>0   </td></tr>\n",
       "\t<tr><td>2   </td><td>1   </td><td>26.0</td><td>9   </td><td>2300</td><td>1   </td></tr>\n",
       "\t<tr><td>4   </td><td>3   </td><td>24.8</td><td>0   </td><td>2100</td><td>0   </td></tr>\n",
       "\t<tr><td>4   </td><td>3   </td><td>26.0</td><td>4   </td><td>2600</td><td>1   </td></tr>\n",
       "\t<tr><td>3   </td><td>3   </td><td>23.8</td><td>0   </td><td>2100</td><td>0   </td></tr>\n",
       "</tbody>\n",
       "</table>\n"
      ],
      "text/latex": [
       "\\begin{tabular}{r|llllll}\n",
       " color & spine & width & satell & weight & y\\\\\n",
       "\\hline\n",
       "\t 3    & 3    & 28.3 & 8    & 3050 & 1   \\\\\n",
       "\t 4    & 3    & 22.5 & 0    & 1550 & 0   \\\\\n",
       "\t 2    & 1    & 26.0 & 9    & 2300 & 1   \\\\\n",
       "\t 4    & 3    & 24.8 & 0    & 2100 & 0   \\\\\n",
       "\t 4    & 3    & 26.0 & 4    & 2600 & 1   \\\\\n",
       "\t 3    & 3    & 23.8 & 0    & 2100 & 0   \\\\\n",
       "\\end{tabular}\n"
      ],
      "text/markdown": [
       "\n",
       "| color | spine | width | satell | weight | y |\n",
       "|---|---|---|---|---|---|\n",
       "| 3    | 3    | 28.3 | 8    | 3050 | 1    |\n",
       "| 4    | 3    | 22.5 | 0    | 1550 | 0    |\n",
       "| 2    | 1    | 26.0 | 9    | 2300 | 1    |\n",
       "| 4    | 3    | 24.8 | 0    | 2100 | 0    |\n",
       "| 4    | 3    | 26.0 | 4    | 2600 | 1    |\n",
       "| 3    | 3    | 23.8 | 0    | 2100 | 0    |\n",
       "\n"
      ],
      "text/plain": [
       "  color spine width satell weight y\n",
       "1 3     3     28.3  8      3050   1\n",
       "2 4     3     22.5  0      1550   0\n",
       "3 2     1     26.0  9      2300   1\n",
       "4 4     3     24.8  0      2100   0\n",
       "5 4     3     26.0  4      2600   1\n",
       "6 3     3     23.8  0      2100   0"
      ]
     },
     "metadata": {},
     "output_type": "display_data"
    }
   ],
   "source": [
    "crabs <- read.table(\"crab.dat\", header = T)\n",
    "head(crabs)"
   ]
  },
  {
   "cell_type": "code",
   "execution_count": 24,
   "metadata": {},
   "outputs": [],
   "source": [
    "crabs$weight = crabs$weight/1000\n",
    "fit <- glm(satell ~ weight, family = poisson(link = log), data = crabs)"
   ]
  },
  {
   "cell_type": "code",
   "execution_count": 25,
   "metadata": {},
   "outputs": [
    {
     "data": {
      "text/plain": [
       "\n",
       "Call:\n",
       "glm(formula = satell ~ weight, family = poisson(link = log), \n",
       "    data = crabs)\n",
       "\n",
       "Deviance Residuals: \n",
       "    Min       1Q   Median       3Q      Max  \n",
       "-2.9307  -1.9981  -0.5627   0.9298   4.9992  \n",
       "\n",
       "Coefficients:\n",
       "            Estimate Std. Error z value Pr(>|z|)    \n",
       "(Intercept) -0.42841    0.17893  -2.394   0.0167 *  \n",
       "weight       0.58930    0.06502   9.064   <2e-16 ***\n",
       "---\n",
       "Signif. codes:  0 ‘***’ 0.001 ‘**’ 0.01 ‘*’ 0.05 ‘.’ 0.1 ‘ ’ 1\n",
       "\n",
       "(Dispersion parameter for poisson family taken to be 1)\n",
       "\n",
       "    Null deviance: 632.79  on 172  degrees of freedom\n",
       "Residual deviance: 560.87  on 171  degrees of freedom\n",
       "AIC: 920.16\n",
       "\n",
       "Number of Fisher Scoring iterations: 5\n"
      ]
     },
     "metadata": {},
     "output_type": "display_data"
    }
   ],
   "source": [
    "summary(fit)"
   ]
  },
  {
   "cell_type": "code",
   "execution_count": 26,
   "metadata": {},
   "outputs": [
    {
     "name": "stderr",
     "output_type": "stream",
     "text": [
      "\n",
      "Attaching package: ‘MASS’\n",
      "\n",
      "The following object is masked _by_ ‘.GlobalEnv’:\n",
      "\n",
      "    crabs\n",
      "\n"
     ]
    }
   ],
   "source": [
    "library(MASS)"
   ]
  },
  {
   "cell_type": "code",
   "execution_count": 28,
   "metadata": {},
   "outputs": [],
   "source": [
    "fit.nb <- glm.nb(satell ~ weight, link = log, data = crabs)"
   ]
  },
  {
   "cell_type": "code",
   "execution_count": 30,
   "metadata": {},
   "outputs": [
    {
     "data": {
      "text/plain": [
       "\n",
       "Call:\n",
       "glm.nb(formula = satell ~ weight, data = crabs, link = log, init.theta = 0.9310592338)\n",
       "\n",
       "Deviance Residuals: \n",
       "    Min       1Q   Median       3Q      Max  \n",
       "-1.8394  -1.4122  -0.3247   0.4744   2.1279  \n",
       "\n",
       "Coefficients:\n",
       "            Estimate Std. Error z value Pr(>|z|)    \n",
       "(Intercept)  -0.8647     0.4048  -2.136   0.0327 *  \n",
       "weight        0.7603     0.1578   4.817 1.45e-06 ***\n",
       "---\n",
       "Signif. codes:  0 ‘***’ 0.001 ‘**’ 0.01 ‘*’ 0.05 ‘.’ 0.1 ‘ ’ 1\n",
       "\n",
       "(Dispersion parameter for Negative Binomial(0.9311) family taken to be 1)\n",
       "\n",
       "    Null deviance: 216.43  on 172  degrees of freedom\n",
       "Residual deviance: 196.16  on 171  degrees of freedom\n",
       "AIC: 754.64\n",
       "\n",
       "Number of Fisher Scoring iterations: 1\n",
       "\n",
       "\n",
       "              Theta:  0.931 \n",
       "          Std. Err.:  0.168 \n",
       "\n",
       " 2 x log-likelihood:  -748.644 "
      ]
     },
     "metadata": {},
     "output_type": "display_data"
    }
   ],
   "source": [
    "summary(fit.nb)"
   ]
  },
  {
   "cell_type": "code",
   "execution_count": 35,
   "metadata": {},
   "outputs": [
    {
     "data": {
      "text/html": [
       "<table>\n",
       "<thead><tr><th></th><th scope=col>color</th><th scope=col>spine</th><th scope=col>width</th><th scope=col>satell</th><th scope=col>weight</th><th scope=col>y</th></tr></thead>\n",
       "<tbody>\n",
       "\t<tr><th scope=row>1</th><td>3   </td><td>3   </td><td>28.3</td><td> 8  </td><td>3.05</td><td>1   </td></tr>\n",
       "\t<tr><th scope=row>3</th><td>2   </td><td>1   </td><td>26.0</td><td> 9  </td><td>2.30</td><td>1   </td></tr>\n",
       "\t<tr><th scope=row>5</th><td>4   </td><td>3   </td><td>26.0</td><td> 4  </td><td>2.60</td><td>1   </td></tr>\n",
       "\t<tr><th scope=row>13</th><td>3   </td><td>3   </td><td>28.2</td><td>11  </td><td>3.05</td><td>1   </td></tr>\n",
       "\t<tr><th scope=row>15</th><td>3   </td><td>1   </td><td>26.0</td><td>14  </td><td>2.30</td><td>1   </td></tr>\n",
       "\t<tr><th scope=row>16</th><td>2   </td><td>1   </td><td>27.1</td><td> 8  </td><td>2.95</td><td>1   </td></tr>\n",
       "</tbody>\n",
       "</table>\n"
      ],
      "text/latex": [
       "\\begin{tabular}{r|llllll}\n",
       "  & color & spine & width & satell & weight & y\\\\\n",
       "\\hline\n",
       "\t1 & 3    & 3    & 28.3 &  8   & 3.05 & 1   \\\\\n",
       "\t3 & 2    & 1    & 26.0 &  9   & 2.30 & 1   \\\\\n",
       "\t5 & 4    & 3    & 26.0 &  4   & 2.60 & 1   \\\\\n",
       "\t13 & 3    & 3    & 28.2 & 11   & 3.05 & 1   \\\\\n",
       "\t15 & 3    & 1    & 26.0 & 14   & 2.30 & 1   \\\\\n",
       "\t16 & 2    & 1    & 27.1 &  8   & 2.95 & 1   \\\\\n",
       "\\end{tabular}\n"
      ],
      "text/markdown": [
       "\n",
       "| <!--/--> | color | spine | width | satell | weight | y |\n",
       "|---|---|---|---|---|---|---|\n",
       "| 1 | 3    | 3    | 28.3 |  8   | 3.05 | 1    |\n",
       "| 3 | 2    | 1    | 26.0 |  9   | 2.30 | 1    |\n",
       "| 5 | 4    | 3    | 26.0 |  4   | 2.60 | 1    |\n",
       "| 13 | 3    | 3    | 28.2 | 11   | 3.05 | 1    |\n",
       "| 15 | 3    | 1    | 26.0 | 14   | 2.30 | 1    |\n",
       "| 16 | 2    | 1    | 27.1 |  8   | 2.95 | 1    |\n",
       "\n"
      ],
      "text/plain": [
       "   color spine width satell weight y\n",
       "1  3     3     28.3   8     3.05   1\n",
       "3  2     1     26.0   9     2.30   1\n",
       "5  4     3     26.0   4     2.60   1\n",
       "13 3     3     28.2  11     3.05   1\n",
       "15 3     1     26.0  14     2.30   1\n",
       "16 2     1     27.1   8     2.95   1"
      ]
     },
     "metadata": {},
     "output_type": "display_data"
    }
   ],
   "source": [
    "crab1 <- subset(crabs, y == 1)\n",
    "head(crab1)"
   ]
  },
  {
   "cell_type": "code",
   "execution_count": 38,
   "metadata": {},
   "outputs": [
    {
     "data": {
      "text/plain": [
       "\n",
       "Call:\n",
       "glm(formula = satell ~ weight, family = poisson(link = log), \n",
       "    data = crab1)\n",
       "\n",
       "Deviance Residuals: \n",
       "    Min       1Q   Median       3Q      Max  \n",
       "-2.1682  -0.9930  -0.2314   0.6568   3.7056  \n",
       "\n",
       "Coefficients:\n",
       "            Estimate Std. Error z value Pr(>|z|)    \n",
       "(Intercept)  1.03816    0.20310   5.112  3.2e-07 ***\n",
       "weight       0.18103    0.07434   2.435   0.0149 *  \n",
       "---\n",
       "Signif. codes:  0 ‘***’ 0.001 ‘**’ 0.01 ‘*’ 0.05 ‘.’ 0.1 ‘ ’ 1\n",
       "\n",
       "(Dispersion parameter for poisson family taken to be 1)\n",
       "\n",
       "    Null deviance: 184.59  on 110  degrees of freedom\n",
       "Residual deviance: 178.84  on 109  degrees of freedom\n",
       "AIC: 538.14\n",
       "\n",
       "Number of Fisher Scoring iterations: 5\n"
      ]
     },
     "metadata": {},
     "output_type": "display_data"
    }
   ],
   "source": [
    "fit.crab1 <- glm(satell ~ weight, family = poisson(link = log), data = crab1 )\n",
    "summary(fit.crab1)"
   ]
  },
  {
   "cell_type": "code",
   "execution_count": 37,
   "metadata": {},
   "outputs": [
    {
     "data": {
      "text/plain": [
       "\n",
       "Call:\n",
       "glm(formula = satell ~ weight, family = poisson(link = log), \n",
       "    data = crab1)\n",
       "\n",
       "Deviance Residuals: \n",
       "    Min       1Q   Median       3Q      Max  \n",
       "-2.1682  -0.9930  -0.2314   0.6568   3.7056  \n",
       "\n",
       "Coefficients:\n",
       "            Estimate Std. Error z value Pr(>|z|)    \n",
       "(Intercept)  1.03816    0.20310   5.112  3.2e-07 ***\n",
       "weight       0.18103    0.07434   2.435   0.0149 *  \n",
       "---\n",
       "Signif. codes:  0 ‘***’ 0.001 ‘**’ 0.01 ‘*’ 0.05 ‘.’ 0.1 ‘ ’ 1\n",
       "\n",
       "(Dispersion parameter for poisson family taken to be 1)\n",
       "\n",
       "    Null deviance: 184.59  on 110  degrees of freedom\n",
       "Residual deviance: 178.84  on 109  degrees of freedom\n",
       "AIC: 538.14\n",
       "\n",
       "Number of Fisher Scoring iterations: 5\n"
      ]
     },
     "metadata": {},
     "output_type": "display_data"
    }
   ],
   "source": []
  },
  {
   "cell_type": "code",
   "execution_count": 39,
   "metadata": {},
   "outputs": [
    {
     "data": {
      "text/html": [
       "<table>\n",
       "<thead><tr><th></th><th scope=col>color</th><th scope=col>spine</th><th scope=col>width</th><th scope=col>satell</th><th scope=col>weight</th><th scope=col>y</th></tr></thead>\n",
       "<tbody>\n",
       "\t<tr><th scope=row>2</th><td>4   </td><td>3   </td><td>22.5</td><td>0   </td><td>1.55</td><td>0   </td></tr>\n",
       "\t<tr><th scope=row>4</th><td>4   </td><td>3   </td><td>24.8</td><td>0   </td><td>2.10</td><td>0   </td></tr>\n",
       "\t<tr><th scope=row>6</th><td>3   </td><td>3   </td><td>23.8</td><td>0   </td><td>2.10</td><td>0   </td></tr>\n",
       "\t<tr><th scope=row>7</th><td>2   </td><td>1   </td><td>26.5</td><td>0   </td><td>2.35</td><td>0   </td></tr>\n",
       "\t<tr><th scope=row>8</th><td>4   </td><td>2   </td><td>24.7</td><td>0   </td><td>1.90</td><td>0   </td></tr>\n",
       "\t<tr><th scope=row>9</th><td>3   </td><td>1   </td><td>23.7</td><td>0   </td><td>1.95</td><td>0   </td></tr>\n",
       "</tbody>\n",
       "</table>\n"
      ],
      "text/latex": [
       "\\begin{tabular}{r|llllll}\n",
       "  & color & spine & width & satell & weight & y\\\\\n",
       "\\hline\n",
       "\t2 & 4    & 3    & 22.5 & 0    & 1.55 & 0   \\\\\n",
       "\t4 & 4    & 3    & 24.8 & 0    & 2.10 & 0   \\\\\n",
       "\t6 & 3    & 3    & 23.8 & 0    & 2.10 & 0   \\\\\n",
       "\t7 & 2    & 1    & 26.5 & 0    & 2.35 & 0   \\\\\n",
       "\t8 & 4    & 2    & 24.7 & 0    & 1.90 & 0   \\\\\n",
       "\t9 & 3    & 1    & 23.7 & 0    & 1.95 & 0   \\\\\n",
       "\\end{tabular}\n"
      ],
      "text/markdown": [
       "\n",
       "| <!--/--> | color | spine | width | satell | weight | y |\n",
       "|---|---|---|---|---|---|---|\n",
       "| 2 | 4    | 3    | 22.5 | 0    | 1.55 | 0    |\n",
       "| 4 | 4    | 3    | 24.8 | 0    | 2.10 | 0    |\n",
       "| 6 | 3    | 3    | 23.8 | 0    | 2.10 | 0    |\n",
       "| 7 | 2    | 1    | 26.5 | 0    | 2.35 | 0    |\n",
       "| 8 | 4    | 2    | 24.7 | 0    | 1.90 | 0    |\n",
       "| 9 | 3    | 1    | 23.7 | 0    | 1.95 | 0    |\n",
       "\n"
      ],
      "text/plain": [
       "  color spine width satell weight y\n",
       "2 4     3     22.5  0      1.55   0\n",
       "4 4     3     24.8  0      2.10   0\n",
       "6 3     3     23.8  0      2.10   0\n",
       "7 2     1     26.5  0      2.35   0\n",
       "8 4     2     24.7  0      1.90   0\n",
       "9 3     1     23.7  0      1.95   0"
      ]
     },
     "metadata": {},
     "output_type": "display_data"
    }
   ],
   "source": [
    "crab2 <- subset(crabs, y==0)\n",
    "head(crab2)"
   ]
  },
  {
   "cell_type": "code",
   "execution_count": 42,
   "metadata": {},
   "outputs": [],
   "source": [
    "fit.crab2 <- glm(satell ~ weight, family = poisson(link = log), data = crab2)"
   ]
  },
  {
   "cell_type": "code",
   "execution_count": 43,
   "metadata": {},
   "outputs": [
    {
     "data": {
      "text/plain": [
       "\n",
       "Call:\n",
       "glm(formula = satell ~ weight, family = poisson(link = log), \n",
       "    data = crab2)\n",
       "\n",
       "Deviance Residuals: \n",
       "       Min          1Q      Median          3Q         Max  \n",
       "-2.748e-06  -2.748e-06  -2.748e-06  -2.748e-06  -2.748e-06  \n",
       "\n",
       "Coefficients:\n",
       "              Estimate Std. Error z value Pr(>|z|)\n",
       "(Intercept) -2.630e+01  1.948e+05       0        1\n",
       "weight      -1.098e-14  8.914e+04       0        1\n",
       "\n",
       "(Dispersion parameter for poisson family taken to be 1)\n",
       "\n",
       "    Null deviance: 0.0000e+00  on 61  degrees of freedom\n",
       "Residual deviance: 4.6812e-10  on 60  degrees of freedom\n",
       "AIC: 4\n",
       "\n",
       "Number of Fisher Scoring iterations: 24\n"
      ]
     },
     "metadata": {},
     "output_type": "display_data"
    }
   ],
   "source": [
    "summary(fit.crab2)"
   ]
  },
  {
   "cell_type": "code",
   "execution_count": 44,
   "metadata": {},
   "outputs": [
    {
     "data": {
      "text/plain": [
       "\n",
       "Call:  glm(formula = satell ~ weight, family = poisson(link = log), \n",
       "    data = crabs)\n",
       "\n",
       "Coefficients:\n",
       "(Intercept)       weight  \n",
       "    -0.4284       0.5893  \n",
       "\n",
       "Degrees of Freedom: 172 Total (i.e. Null);  171 Residual\n",
       "Null Deviance:\t    632.8 \n",
       "Residual Deviance: 560.9 \tAIC: 920.2"
      ]
     },
     "metadata": {},
     "output_type": "display_data"
    }
   ],
   "source": [
    "fit"
   ]
  },
  {
   "cell_type": "markdown",
   "metadata": {},
   "source": [
    "# Exercise 4.3"
   ]
  },
  {
   "cell_type": "code",
   "execution_count": 45,
   "metadata": {},
   "outputs": [
    {
     "data": {
      "text/html": [
       "<table>\n",
       "<tbody>\n",
       "\t<tr><td>24  </td><td>1355</td></tr>\n",
       "\t<tr><td>35  </td><td> 603</td></tr>\n",
       "\t<tr><td>21  </td><td> 192</td></tr>\n",
       "\t<tr><td>30  </td><td> 224</td></tr>\n",
       "</tbody>\n",
       "</table>\n"
      ],
      "text/latex": [
       "\\begin{tabular}{ll}\n",
       "\t 24   & 1355\\\\\n",
       "\t 35   &  603\\\\\n",
       "\t 21   &  192\\\\\n",
       "\t 30   &  224\\\\\n",
       "\\end{tabular}\n"
      ],
      "text/markdown": [
       "\n",
       "| 24   | 1355 |\n",
       "| 35   |  603 |\n",
       "| 21   |  192 |\n",
       "| 30   |  224 |\n",
       "\n"
      ],
      "text/plain": [
       "     [,1] [,2]\n",
       "[1,] 24   1355\n",
       "[2,] 35    603\n",
       "[3,] 21    192\n",
       "[4,] 30    224"
      ]
     },
     "metadata": {},
     "output_type": "display_data"
    }
   ],
   "source": [
    "snoring <- matrix(c(24, 1355, 35, 603, 21, 192, 30, 224), ncol = 2, byrow = TRUE)\n",
    "score1 <- c(0, 2, 4, 6)\n",
    "score2 <- c(0, 1, 2, 3)\n",
    "score3 <- c(1, 2, 3, 4)\n",
    "head(snoring)"
   ]
  },
  {
   "cell_type": "code",
   "execution_count": 46,
   "metadata": {},
   "outputs": [],
   "source": [
    "fit1 <- glm(snoring ~ score1, family = binomial(link = logit))\n",
    "fit2 <- glm(snoring ~ score2, family = binomial(link = logit))\n",
    "fit3 <- glm(snoring ~ score3, family = binomial(link = logit))"
   ]
  },
  {
   "cell_type": "code",
   "execution_count": 49,
   "metadata": {},
   "outputs": [
    {
     "data": {
      "text/html": [
       "<table>\n",
       "<tbody>\n",
       "\t<tr><th scope=row>(Intercept)</th><td>-3.7773756</td><td>-3.7773756</td><td>-4.4319052</td></tr>\n",
       "\t<tr><th scope=row>score1</th><td> 0.3272648</td><td> 0.6545296</td><td> 0.6545296</td></tr>\n",
       "</tbody>\n",
       "</table>\n"
      ],
      "text/latex": [
       "\\begin{tabular}{r|lll}\n",
       "\t(Intercept) & -3.7773756 & -3.7773756 & -4.4319052\\\\\n",
       "\tscore1 &  0.3272648 &  0.6545296 &  0.6545296\\\\\n",
       "\\end{tabular}\n"
      ],
      "text/markdown": [
       "\n",
       "| (Intercept) | -3.7773756 | -3.7773756 | -4.4319052 |\n",
       "| score1 |  0.3272648 |  0.6545296 |  0.6545296 |\n",
       "\n"
      ],
      "text/plain": [
       "            [,1]       [,2]       [,3]      \n",
       "(Intercept) -3.7773756 -3.7773756 -4.4319052\n",
       "score1       0.3272648  0.6545296  0.6545296"
      ]
     },
     "metadata": {},
     "output_type": "display_data"
    }
   ],
   "source": [
    "cbind(coef(fit1), coef(fit2), coef(fit3))"
   ]
  },
  {
   "cell_type": "code",
   "execution_count": 52,
   "metadata": {},
   "outputs": [
    {
     "data": {
      "text/html": [
       "<table>\n",
       "<tbody>\n",
       "\t<tr><td>0.02237076</td><td>0.02237076</td><td>0.02237076</td></tr>\n",
       "\t<tr><td>0.04217465</td><td>0.04217465</td><td>0.04217465</td></tr>\n",
       "\t<tr><td>0.07810938</td><td>0.07810938</td><td>0.07810938</td></tr>\n",
       "\t<tr><td>0.14018107</td><td>0.14018107</td><td>0.14018107</td></tr>\n",
       "</tbody>\n",
       "</table>\n"
      ],
      "text/latex": [
       "\\begin{tabular}{r|lll}\n",
       "\t 0.02237076 & 0.02237076 & 0.02237076\\\\\n",
       "\t 0.04217465 & 0.04217465 & 0.04217465\\\\\n",
       "\t 0.07810938 & 0.07810938 & 0.07810938\\\\\n",
       "\t 0.14018107 & 0.14018107 & 0.14018107\\\\\n",
       "\\end{tabular}\n"
      ],
      "text/markdown": [
       "\n",
       "| 0.02237076 | 0.02237076 | 0.02237076 |\n",
       "| 0.04217465 | 0.04217465 | 0.04217465 |\n",
       "| 0.07810938 | 0.07810938 | 0.07810938 |\n",
       "| 0.14018107 | 0.14018107 | 0.14018107 |\n",
       "\n"
      ],
      "text/plain": [
       "  [,1]       [,2]       [,3]      \n",
       "1 0.02237076 0.02237076 0.02237076\n",
       "2 0.04217465 0.04217465 0.04217465\n",
       "3 0.07810938 0.07810938 0.07810938\n",
       "4 0.14018107 0.14018107 0.14018107"
      ]
     },
     "metadata": {},
     "output_type": "display_data"
    }
   ],
   "source": [
    "cbind(fitted(fit1), fitted(fit2), fitted(fit3))"
   ]
  },
  {
   "cell_type": "markdown",
   "metadata": {},
   "source": [
    "Linear transformations of scores which preserves relative sizes of spacings btw scores didn't affect fitted values. But, as size of spacing bigger 2 times, the coefficient became .5 times."
   ]
  },
  {
   "cell_type": "markdown",
   "metadata": {},
   "source": [
    "# Exercise 4.4"
   ]
  },
  {
   "cell_type": "code",
   "execution_count": 54,
   "metadata": {},
   "outputs": [
    {
     "data": {
      "text/html": [
       "<table>\n",
       "<thead><tr><th scope=col>color</th><th scope=col>spine</th><th scope=col>width</th><th scope=col>satell</th><th scope=col>weight</th><th scope=col>y</th></tr></thead>\n",
       "<tbody>\n",
       "\t<tr><td>3   </td><td>3   </td><td>28.3</td><td>8   </td><td>3.05</td><td>1   </td></tr>\n",
       "\t<tr><td>4   </td><td>3   </td><td>22.5</td><td>0   </td><td>1.55</td><td>0   </td></tr>\n",
       "\t<tr><td>2   </td><td>1   </td><td>26.0</td><td>9   </td><td>2.30</td><td>1   </td></tr>\n",
       "\t<tr><td>4   </td><td>3   </td><td>24.8</td><td>0   </td><td>2.10</td><td>0   </td></tr>\n",
       "\t<tr><td>4   </td><td>3   </td><td>26.0</td><td>4   </td><td>2.60</td><td>1   </td></tr>\n",
       "\t<tr><td>3   </td><td>3   </td><td>23.8</td><td>0   </td><td>2.10</td><td>0   </td></tr>\n",
       "</tbody>\n",
       "</table>\n"
      ],
      "text/latex": [
       "\\begin{tabular}{r|llllll}\n",
       " color & spine & width & satell & weight & y\\\\\n",
       "\\hline\n",
       "\t 3    & 3    & 28.3 & 8    & 3.05 & 1   \\\\\n",
       "\t 4    & 3    & 22.5 & 0    & 1.55 & 0   \\\\\n",
       "\t 2    & 1    & 26.0 & 9    & 2.30 & 1   \\\\\n",
       "\t 4    & 3    & 24.8 & 0    & 2.10 & 0   \\\\\n",
       "\t 4    & 3    & 26.0 & 4    & 2.60 & 1   \\\\\n",
       "\t 3    & 3    & 23.8 & 0    & 2.10 & 0   \\\\\n",
       "\\end{tabular}\n"
      ],
      "text/markdown": [
       "\n",
       "| color | spine | width | satell | weight | y |\n",
       "|---|---|---|---|---|---|\n",
       "| 3    | 3    | 28.3 | 8    | 3.05 | 1    |\n",
       "| 4    | 3    | 22.5 | 0    | 1.55 | 0    |\n",
       "| 2    | 1    | 26.0 | 9    | 2.30 | 1    |\n",
       "| 4    | 3    | 24.8 | 0    | 2.10 | 0    |\n",
       "| 4    | 3    | 26.0 | 4    | 2.60 | 1    |\n",
       "| 3    | 3    | 23.8 | 0    | 2.10 | 0    |\n",
       "\n"
      ],
      "text/plain": [
       "  color spine width satell weight y\n",
       "1 3     3     28.3  8      3.05   1\n",
       "2 4     3     22.5  0      1.55   0\n",
       "3 2     1     26.0  9      2.30   1\n",
       "4 4     3     24.8  0      2.10   0\n",
       "5 4     3     26.0  4      2.60   1\n",
       "6 3     3     23.8  0      2.10   0"
      ]
     },
     "metadata": {},
     "output_type": "display_data"
    }
   ],
   "source": [
    "crabs <- read.table(\"../data/crab.dat\", header = T)\n",
    "crabs$weight <- crabs$weight/1000\n",
    "head(crabs)"
   ]
  },
  {
   "cell_type": "code",
   "execution_count": 63,
   "metadata": {},
   "outputs": [
    {
     "data": {
      "text/plain": [
       "\n",
       "Call:\n",
       "lm(formula = y ~ weight, data = crabs)\n",
       "\n",
       "Residuals:\n",
       "    Min      1Q  Median      3Q     Max \n",
       "-0.8878 -0.4683  0.1606  0.3704  0.6689 \n",
       "\n",
       "Coefficients:\n",
       "            Estimate Std. Error t value Pr(>|t|)    \n",
       "(Intercept) -0.14487    0.14715  -0.984    0.326    \n",
       "weight       0.32270    0.05876   5.492 1.42e-07 ***\n",
       "---\n",
       "Signif. codes:  0 ‘***’ 0.001 ‘**’ 0.01 ‘*’ 0.05 ‘.’ 0.1 ‘ ’ 1\n",
       "\n",
       "Residual standard error: 0.4447 on 171 degrees of freedom\n",
       "Multiple R-squared:  0.1499,\tAdjusted R-squared:  0.1449 \n",
       "F-statistic: 30.16 on 1 and 171 DF,  p-value: 1.421e-07\n"
      ]
     },
     "metadata": {},
     "output_type": "display_data"
    }
   ],
   "source": [
    "ols <- lm(y~weight, data = crabs)\n",
    "summary(ols)"
   ]
  },
  {
   "cell_type": "code",
   "execution_count": 67,
   "metadata": {},
   "outputs": [
    {
     "data": {
      "image/png": "[encoded data removed]",
      "text/plain": [
       "plot without title"
      ]
     },
     "metadata": {},
     "output_type": "display_data"
    }
   ],
   "source": [
    "ggplot(crabs, aes(x = weight, y = y)) +\n",
    "  geom_point() +\n",
    "  geom_smooth(method = \"lm\", se = FALSE) +\n",
    "  scale_x_continuous(limits = c(1, 6), expand = c(0, 0)) +\n",
    "  theme_bw()"
   ]
  },
  {
   "cell_type": "markdown",
   "metadata": {},
   "source": [
    "# Exercise 4.6 "
   ]
  },
  {
   "cell_type": "code",
   "execution_count": 73,
   "metadata": {},
   "outputs": [
    {
     "data": {
      "text/plain": [
       "\n",
       "Call:\n",
       "glm(formula = satell ~ weight, family = poisson(link = log), \n",
       "    data = crabs)\n",
       "\n",
       "Deviance Residuals: \n",
       "    Min       1Q   Median       3Q      Max  \n",
       "-2.9307  -1.9981  -0.5627   0.9298   4.9992  \n",
       "\n",
       "Coefficients:\n",
       "            Estimate Std. Error z value Pr(>|z|)    \n",
       "(Intercept) -0.42841    0.17893  -2.394   0.0167 *  \n",
       "weight       0.58930    0.06502   9.064   <2e-16 ***\n",
       "---\n",
       "Signif. codes:  0 ‘***’ 0.001 ‘**’ 0.01 ‘*’ 0.05 ‘.’ 0.1 ‘ ’ 1\n",
       "\n",
       "(Dispersion parameter for poisson family taken to be 1)\n",
       "\n",
       "    Null deviance: 632.79  on 172  degrees of freedom\n",
       "Residual deviance: 560.87  on 171  degrees of freedom\n",
       "AIC: 920.16\n",
       "\n",
       "Number of Fisher Scoring iterations: 5\n"
      ]
     },
     "metadata": {},
     "output_type": "display_data"
    }
   ],
   "source": [
    "fit <- glm(satell ~ weight, family = poisson(link = log), data = crabs)\n",
    "summary(fit)"
   ]
  },
  {
   "cell_type": "markdown",
   "metadata": {},
   "source": [
    "- Asymptotic covariance of $\\hat{\\beta}$ is given by $\\hat{J}^{-1}$ since $\\hat{\\beta}$ is ML estimator. Also, we have $J^{-1} = X^T\\hat{W}X$ where $\\hat{W}$ is evaluated at $\\hat{\\beta}$. Using large sample normality, we can get confidence interval for $\\beta$.\n",
    "\n",
    "\n",
    "- Wald test for $H_0 : $Y is independent of $x$ vs. $H_1 : \\beta\\neq 0$ \n",
    "    - we can easily test Wald's using asymptotic normality \n",
    "    $$Cov(\\hat{\\beta})^{-1}(\\hat{\\beta}-\\beta)\\to\\mathcal{N}(0, I)$$\n",
    "    under null hypothesis $\\beta = 0$\n",
    "\n",
    "- Likelihood ratio test for $H_0 : $Y is independent of $x$ vs. $H_1 : \\beta\\neq 0$\n",
    "    - We need log likelihood value when $\\beta=0$\n",
    "    \n"
   ]
  },
  {
   "cell_type": "markdown",
   "metadata": {},
   "source": [
    "# Exercise 4.7"
   ]
  },
  {
   "cell_type": "code",
   "execution_count": 82,
   "metadata": {},
   "outputs": [
    {
     "data": {
      "text/html": [
       "<table>\n",
       "<thead><tr><th scope=col>imperfection</th><th scope=col>treat</th></tr></thead>\n",
       "<tbody>\n",
       "\t<tr><td> 8</td><td>0 </td></tr>\n",
       "\t<tr><td> 7</td><td>0 </td></tr>\n",
       "\t<tr><td> 6</td><td>0 </td></tr>\n",
       "\t<tr><td> 6</td><td>0 </td></tr>\n",
       "\t<tr><td> 3</td><td>0 </td></tr>\n",
       "\t<tr><td> 4</td><td>0 </td></tr>\n",
       "\t<tr><td> 7</td><td>0 </td></tr>\n",
       "\t<tr><td> 2</td><td>0 </td></tr>\n",
       "\t<tr><td> 3</td><td>0 </td></tr>\n",
       "\t<tr><td> 4</td><td>0 </td></tr>\n",
       "\t<tr><td> 9</td><td>1 </td></tr>\n",
       "\t<tr><td> 9</td><td>1 </td></tr>\n",
       "\t<tr><td> 8</td><td>1 </td></tr>\n",
       "\t<tr><td>14</td><td>1 </td></tr>\n",
       "\t<tr><td> 8</td><td>1 </td></tr>\n",
       "\t<tr><td>13</td><td>1 </td></tr>\n",
       "\t<tr><td>11</td><td>1 </td></tr>\n",
       "\t<tr><td> 5</td><td>1 </td></tr>\n",
       "\t<tr><td> 7</td><td>1 </td></tr>\n",
       "\t<tr><td> 6</td><td>1 </td></tr>\n",
       "</tbody>\n",
       "</table>\n"
      ],
      "text/latex": [
       "\\begin{tabular}{ll}\n",
       " imperfection & treat\\\\\n",
       "\\hline\n",
       "\t  8 & 0 \\\\\n",
       "\t  7 & 0 \\\\\n",
       "\t  6 & 0 \\\\\n",
       "\t  6 & 0 \\\\\n",
       "\t  3 & 0 \\\\\n",
       "\t  4 & 0 \\\\\n",
       "\t  7 & 0 \\\\\n",
       "\t  2 & 0 \\\\\n",
       "\t  3 & 0 \\\\\n",
       "\t  4 & 0 \\\\\n",
       "\t  9 & 1 \\\\\n",
       "\t  9 & 1 \\\\\n",
       "\t  8 & 1 \\\\\n",
       "\t 14 & 1 \\\\\n",
       "\t  8 & 1 \\\\\n",
       "\t 13 & 1 \\\\\n",
       "\t 11 & 1 \\\\\n",
       "\t  5 & 1 \\\\\n",
       "\t  7 & 1 \\\\\n",
       "\t  6 & 1 \\\\\n",
       "\\end{tabular}\n"
      ],
      "text/markdown": [
       "\n",
       "| imperfection | treat |\n",
       "|---|---|\n",
       "|  8 | 0  |\n",
       "|  7 | 0  |\n",
       "|  6 | 0  |\n",
       "|  6 | 0  |\n",
       "|  3 | 0  |\n",
       "|  4 | 0  |\n",
       "|  7 | 0  |\n",
       "|  2 | 0  |\n",
       "|  3 | 0  |\n",
       "|  4 | 0  |\n",
       "|  9 | 1  |\n",
       "|  9 | 1  |\n",
       "|  8 | 1  |\n",
       "| 14 | 1  |\n",
       "|  8 | 1  |\n",
       "| 13 | 1  |\n",
       "| 11 | 1  |\n",
       "|  5 | 1  |\n",
       "|  7 | 1  |\n",
       "|  6 | 1  |\n",
       "\n"
      ],
      "text/plain": [
       "      imperfection treat\n",
       " [1,]  8           0    \n",
       " [2,]  7           0    \n",
       " [3,]  6           0    \n",
       " [4,]  6           0    \n",
       " [5,]  3           0    \n",
       " [6,]  4           0    \n",
       " [7,]  7           0    \n",
       " [8,]  2           0    \n",
       " [9,]  3           0    \n",
       "[10,]  4           0    \n",
       "[11,]  9           1    \n",
       "[12,]  9           1    \n",
       "[13,]  8           1    \n",
       "[14,] 14           1    \n",
       "[15,]  8           1    \n",
       "[16,] 13           1    \n",
       "[17,] 11           1    \n",
       "[18,]  5           1    \n",
       "[19,]  7           1    \n",
       "[20,]  6           1    "
      ]
     },
     "metadata": {},
     "output_type": "display_data"
    }
   ],
   "source": [
    "imperfection <- c(8, 7, 6, 6, 3, 4, 7, 2, 3, 4, 9, 9, 8, 14, 8, 13, 11, 5, 7, 6)\n",
    "treat <- c(0, 0, 0, 0, 0, 0, 0, 0, 0, 0, 1, 1, 1, 1, 1, 1, 1, 1, 1, 1)\n",
    "cbind(imperfection, treat)"
   ]
  },
  {
   "cell_type": "code",
   "execution_count": 84,
   "metadata": {},
   "outputs": [
    {
     "data": {
      "text/plain": [
       "\n",
       "Call:\n",
       "glm(formula = imperfection ~ treat, family = poisson(link = log))\n",
       "\n",
       "Deviance Residuals: \n",
       "    Min       1Q   Median       3Q      Max  \n",
       "-1.5280  -0.7622  -0.1699   0.6938   1.5399  \n",
       "\n",
       "Coefficients:\n",
       "            Estimate Std. Error z value Pr(>|z|)    \n",
       "(Intercept)   1.6094     0.1414  11.380  < 2e-16 ***\n",
       "treat         0.5878     0.1764   3.332 0.000861 ***\n",
       "---\n",
       "Signif. codes:  0 ‘***’ 0.001 ‘**’ 0.01 ‘*’ 0.05 ‘.’ 0.1 ‘ ’ 1\n",
       "\n",
       "(Dispersion parameter for poisson family taken to be 1)\n",
       "\n",
       "    Null deviance: 27.857  on 19  degrees of freedom\n",
       "Residual deviance: 16.268  on 18  degrees of freedom\n",
       "AIC: 94.349\n",
       "\n",
       "Number of Fisher Scoring iterations: 4\n"
      ]
     },
     "metadata": {},
     "output_type": "display_data"
    }
   ],
   "source": [
    "fit <- glm(imperfection ~ treat, family = poisson(link = log))\n",
    "summary(fit)"
   ]
  },
  {
   "cell_type": "code",
   "execution_count": 89,
   "metadata": {},
   "outputs": [
    {
     "data": {
      "text/html": [
       "<strong>11:</strong> 1.7999999999854"
      ],
      "text/latex": [
       "\\textbf{11:} 1.7999999999854"
      ],
      "text/markdown": [
       "**11:** 1.7999999999854"
      ],
      "text/plain": [
       " 11 \n",
       "1.8 "
      ]
     },
     "metadata": {},
     "output_type": "display_data"
    }
   ],
   "source": [
    "mua <- fitted(fit)[1]\n",
    "mub <- fitted(fit)[11]\n",
    "mub/mua"
   ]
  },
  {
   "cell_type": "code",
   "execution_count": 91,
   "metadata": {},
   "outputs": [
    {
     "data": {
      "text/html": [
       "1.80002400333623"
      ],
      "text/latex": [
       "1.80002400333623"
      ],
      "text/markdown": [
       "1.80002400333623"
      ],
      "text/plain": [
       "[1] 1.800024"
      ]
     },
     "metadata": {},
     "output_type": "display_data"
    }
   ],
   "source": [
    "exp(0.5878)"
   ]
  },
  {
   "cell_type": "markdown",
   "metadata": {},
   "source": [
    "# Exercise 4.9"
   ]
  },
  {
   "cell_type": "code",
   "execution_count": 107,
   "metadata": {},
   "outputs": [
    {
     "data": {
      "image/png": "[encoded data removed]",
      "text/plain": [
       "plot without title"
      ]
     },
     "metadata": {},
     "output_type": "display_data"
    }
   ],
   "source": [
    "ggplot(data = crabs, aes(x = width, y = satell))+geom_point(data=crabs,aes(x=width, \n",
    "                        y=satell))"
   ]
  },
  {
   "cell_type": "code",
   "execution_count": 108,
   "metadata": {
    "scrolled": false
   },
   "outputs": [
    {
     "data": {
      "text/plain": [
       "\n",
       "Call:\n",
       "glm.nb(formula = satell ~ width, data = crabs, init.theta = 0.90456808, \n",
       "    link = log)\n",
       "\n",
       "Deviance Residuals: \n",
       "    Min       1Q   Median       3Q      Max  \n",
       "-1.7798  -1.4110  -0.2502   0.4770   2.0177  \n",
       "\n",
       "Coefficients:\n",
       "            Estimate Std. Error z value Pr(>|z|)    \n",
       "(Intercept) -4.05251    1.17143  -3.459 0.000541 ***\n",
       "width        0.19207    0.04406   4.360  1.3e-05 ***\n",
       "---\n",
       "Signif. codes:  0 ‘***’ 0.001 ‘**’ 0.01 ‘*’ 0.05 ‘.’ 0.1 ‘ ’ 1\n",
       "\n",
       "(Dispersion parameter for Negative Binomial(0.9046) family taken to be 1)\n",
       "\n",
       "    Null deviance: 213.05  on 172  degrees of freedom\n",
       "Residual deviance: 195.81  on 171  degrees of freedom\n",
       "AIC: 757.29\n",
       "\n",
       "Number of Fisher Scoring iterations: 1\n",
       "\n",
       "\n",
       "              Theta:  0.905 \n",
       "          Std. Err.:  0.161 \n",
       "\n",
       " 2 x log-likelihood:  -751.291 "
      ]
     },
     "metadata": {},
     "output_type": "display_data"
    }
   ],
   "source": [
    "fit <- glm.nb(satell ~ width, data = crabs)\n",
    "summary(fit)"
   ]
  },
  {
   "cell_type": "code",
   "execution_count": 109,
   "metadata": {},
   "outputs": [
    {
     "data": {
      "text/html": [
       "0.0500366270865863"
      ],
      "text/latex": [
       "0.0500366270865863"
      ],
      "text/markdown": [
       "0.0500366270865863"
      ],
      "text/plain": [
       "[1] 0.05003663"
      ]
     },
     "metadata": {},
     "output_type": "display_data"
    }
   ],
   "source": [
    "exp(-5.99/2)"
   ]
  },
  {
   "cell_type": "markdown",
   "metadata": {},
   "source": [
    "# Section 4.3.6"
   ]
  },
  {
   "cell_type": "code",
   "execution_count": 19,
   "metadata": {},
   "outputs": [
    {
     "data": {
      "text/html": [
       "<table>\n",
       "<tbody>\n",
       "\t<tr><td>0</td><td>0</td></tr>\n",
       "\t<tr><td>0</td><td>1</td></tr>\n",
       "\t<tr><td>1</td><td>0</td></tr>\n",
       "\t<tr><td>1</td><td>1</td></tr>\n",
       "</tbody>\n",
       "</table>\n"
      ],
      "text/latex": [
       "\\begin{tabular}{ll}\n",
       "\t 0 & 0\\\\\n",
       "\t 0 & 1\\\\\n",
       "\t 1 & 0\\\\\n",
       "\t 1 & 1\\\\\n",
       "\\end{tabular}\n"
      ],
      "text/markdown": [
       "\n",
       "| 0 | 0 |\n",
       "| 0 | 1 |\n",
       "| 1 | 0 |\n",
       "| 1 | 1 |\n",
       "\n"
      ],
      "text/plain": [
       "     [,1] [,2]\n",
       "[1,] 0    0   \n",
       "[2,] 0    1   \n",
       "[3,] 1    0   \n",
       "[4,] 1    1   "
      ]
     },
     "metadata": {},
     "output_type": "display_data"
    }
   ],
   "source": [
    "Heart <- c(4, 1, 7, 9)\n",
    "X <- matrix(c(0, 0, 0, 1, 1, 0, 1, 1), ncol = 2, byrow =TRUE)\n",
    "logt <- c(log(1259), log(2082), log(1417), log(1647))\n",
    "X"
   ]
  },
  {
   "cell_type": "code",
   "execution_count": 20,
   "metadata": {},
   "outputs": [
    {
     "data": {
      "text/plain": [
       "\n",
       "Call:\n",
       "glm(formula = Heart ~ X, family = poisson(link = log), offset = logt)\n",
       "\n",
       "Deviance Residuals: \n",
       "     1       2       3       4  \n",
       " 1.025  -1.197  -0.602   0.613  \n",
       "\n",
       "Coefficients:\n",
       "            Estimate Std. Error z value Pr(>|z|)    \n",
       "(Intercept)  -6.3121     0.5066 -12.460   <2e-16 ***\n",
       "X1            1.2209     0.5138   2.376   0.0175 *  \n",
       "X2           -0.3299     0.4382  -0.753   0.4515    \n",
       "---\n",
       "Signif. codes:  0 ‘***’ 0.001 ‘**’ 0.01 ‘*’ 0.05 ‘.’ 0.1 ‘ ’ 1\n",
       "\n",
       "(Dispersion parameter for poisson family taken to be 1)\n",
       "\n",
       "    Null deviance: 10.8405  on 3  degrees of freedom\n",
       "Residual deviance:  3.2225  on 1  degrees of freedom\n",
       "AIC: 22.349\n",
       "\n",
       "Number of Fisher Scoring iterations: 5\n"
      ]
     },
     "metadata": {},
     "output_type": "display_data"
    }
   ],
   "source": [
    "fit <- glm(Heart ~ X, family = poisson(link = log), offset = logt)\n",
    "summary(fit)"
   ]
  },
  {
   "cell_type": "code",
   "execution_count": null,
   "metadata": {},
   "outputs": [],
   "source": []
  },
  {
   "cell_type": "code",
   "execution_count": null,
   "metadata": {},
   "outputs": [],
   "source": []
  }
 ],
 "metadata": {
  "kernelspec": {
   "display_name": "R",
   "language": "R",
   "name": "ir"
  },
  "language_info": {
   "codemirror_mode": "r",
   "file_extension": ".r",
   "mimetype": "text/x-r-source",
   "name": "R",
   "pygments_lexer": "r",
   "version": "3.6.1"
  }
 },
 "nbformat": 4,
 "nbformat_minor": 4
}
