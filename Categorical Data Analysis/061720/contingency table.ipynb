{
 "cells": [
  {
   "cell_type": "code",
   "execution_count": 63,
   "metadata": {},
   "outputs": [],
   "source": [
    "from scipy.stats import chi2\n",
    "import numpy as np\n",
    "import matplotlib.pyplot as plt\n",
    "import seaborn as sns"
   ]
  },
  {
   "cell_type": "code",
   "execution_count": 114,
   "metadata": {},
   "outputs": [],
   "source": [
    "class Contingency:\n",
    "    def __init__(self, table):\n",
    "        self.table = table\n",
    "        self.row_sum = table.sum(axis = 1)\n",
    "        self.col_sum = table.sum(axis = 0)\n",
    "        \n",
    "        self.tot = table.sum()\n",
    "        \n",
    "    def standard_score(self, row_score, col_score):\n",
    "        row_score = np.array(row_score); col_score = np.array(col_score),\n",
    "        rmean = (self.row_sum * row_score).sum()/self.tot\n",
    "        rsdv = ((((row_score - rmean)**2)*self.row_sum).sum()/(self.tot-1))**.5\n",
    "\n",
    "        cmean = (self.col_sum * col_score).sum()/self.tot\n",
    "        csdv = ((((col_score - cmean)**2)*self.col_sum).sum()/(self.tot-1))**.5\n",
    "        \n",
    "        srow = (row_score-rmean)/rsdv ; scol = (col_score-cmean)/csdv\n",
    "\n",
    "        return srow, scol\n",
    "    \n",
    "    def Pcorr(self, row_score, col_score):\n",
    "        srow, scol = self.standard_score(row_score, col_score)\n",
    "        srow = srow.reshape(1,-1); scol = scol.reshape(-1, 1)\n",
    "        r = srow.dot(self.table).dot(scol)/self.tot\n",
    "        \n",
    "        return r[0, 0]\n",
    "\n",
    "    def M2test(self, row_score, col_score):\n",
    "        # Under H_0 : corr = 0\n",
    "        \n",
    "        r = self.Pcorr(row_score, col_score)\n",
    "        M2 = (self.tot-1)*r**2\n",
    "        pval = chi2.sf(M2, 1)\n",
    "        \n",
    "        return M2, pval\n",
    "        \n",
    "    def chi2test(self):\n",
    "        # Under H_0 : independence \n",
    "        \n",
    "        rp = (self.row_sum/self.tot).reshape(-1, 1)\n",
    "        cp = (self.col_sum/self.tot).reshape(1, -1)\n",
    "        \n",
    "        estim = rp.dot(cp)*self.tot\n",
    "        x2 = ((table-estim)**2/estim).sum()\n",
    "        \n",
    "        df = (self.table.shape[0]-1)*(self.table.shape[1]-1)\n",
    "        pval = chi2.sf(x2, df)\n",
    "        \n",
    "        return x2, pval\n",
    "    \n",
    "    def PearsonResidual(self):\n",
    "        mu_hat = self.row_sum.reshape(-1, 1).dot(self.col_sum.reshape(1, -1))/self.tot\n",
    "        z = (self.table-mu_hat)/np.sqrt(mu_hat)\n",
    "        print(\"standard residual : \\n\", z.round(2))\n",
    "        return z\n",
    "    \n",
    "    def StandardizedResidual(self):\n",
    "        mu_hat = self.row_sum.reshape(-1, 1).dot(self.col_sum.reshape(1, -1))/self.tot\n",
    "        prow = 1-self.row_sum/self.tot; pcol = 1-self.col_sum/self.tot\n",
    "        print(\"pi+ :\", prow)\n",
    "        print(\"p+j :\", pcol)\n",
    "        print(\"muhat :\", mu_hat)\n",
    "        norm = np.apply_along_axis(lambda x : x*prow, 0, mu_hat)\n",
    "        norm = np.apply_along_axis(lambda x : x*pcol.T, 1, norm)\n",
    "        print(\"norm :\", norm)\n",
    "        z = (self.table-mu_hat)/np.sqrt(norm)\n",
    "        print(\"standard residual : \\n\", z.round(2))\n",
    "        return z\n",
    "      "
   ]
  },
  {
   "cell_type": "markdown",
   "metadata": {},
   "source": [
    "# 3.4.2 Example : Is Happiness Associated with Political Ideology?"
   ]
  },
  {
   "cell_type": "code",
   "execution_count": 48,
   "metadata": {
    "scrolled": false
   },
   "outputs": [
    {
     "name": "stdout",
     "output_type": "stream",
     "text": [
      "Chi-squared test x2 is 7.07 and p-value is 0.13\n",
      "Pearson Correlation r is 0.135\n",
      "M square test m2 is 5.82 and p-value is 0.02\n"
     ]
    }
   ],
   "source": [
    "table = np.array([[13, 29, 15],\n",
    "                [23, 59, 47],\n",
    "                 [14, 67, 54]])\n",
    "cont = Contingency(table)\n",
    "r = cont.Pcorr(row_score = [1, 2, 3], col_score = [1, 2, 3])\n",
    "x2, pval = cont.chi2test()\n",
    "print(\"Chi-squared test x2 is %.2f and p-value is %.2f\" %(x2, pval))\n",
    "print(\"Pearson Correlation r is %.3f\" %r)\n",
    "m2, pval = cont.M2test(row_score=[1,2,3], col_score = [1, 2, 3])\n",
    "print(\"M square test m2 is %.2f and p-value is %.2f\" %(m2, pval) )"
   ]
  },
  {
   "cell_type": "markdown",
   "metadata": {},
   "source": [
    "# 3.4.6 Example : Infant Birth Defects by Maternal Alcohol Consumption"
   ]
  },
  {
   "cell_type": "code",
   "execution_count": 49,
   "metadata": {},
   "outputs": [
    {
     "name": "stdout",
     "output_type": "stream",
     "text": [
      "Chi-squared test x2 is 12.08 and p-value is 0.02\n",
      "Pearson Correlation r is 0.014\n",
      "M square test m2 is 6.57 and p-value is 0.010\n"
     ]
    }
   ],
   "source": [
    "table = np.array([[17066, 14464, 788, 126, 37],\n",
    "                [48, 38, 5, 1, 1]])\n",
    "cont = Contingency(table)\n",
    "r = cont.Pcorr(row_score = [1, 2], col_score = [0, 0.5, 1.5, 4, 7])\n",
    "x2, pval = cont.chi2test()\n",
    "print(\"Chi-squared test x2 is %.2f and p-value is %.2f\" %(x2, pval))\n",
    "print(\"Pearson Correlation r is %.3f\" %r)\n",
    "m2, pval = cont.M2test(row_score = [1, 2], col_score = [0, 0.5, 1.5, 4, 7])\n",
    "print(\"M square test m2 is %.2f and p-value is %.3f\" %(m2, pval) )"
   ]
  },
  {
   "cell_type": "code",
   "execution_count": 50,
   "metadata": {},
   "outputs": [
    {
     "name": "stdout",
     "output_type": "stream",
     "text": [
      "Chi-squared test x2 is 12.08 and p-value is 0.02\n",
      "Pearson Correlation r is 0.007\n",
      "M square test m2 is 1.83 and p-value is 0.176\n"
     ]
    }
   ],
   "source": [
    "r = cont.Pcorr(row_score = [1, 2], col_score = [1, 2, 3, 4, 5])\n",
    "x2, pval = cont.chi2test()\n",
    "print(\"Chi-squared test x2 is %.2f and p-value is %.2f\" %(x2, pval))\n",
    "print(\"Pearson Correlation r is %.3f\" %r)\n",
    "m2, pval = cont.M2test(row_score = [1, 2], col_score = [1, 2, 3, 4, 5])\n",
    "print(\"M square test m2 is %.2f and p-value is %.3f\" %(m2, pval) )"
   ]
  },
  {
   "cell_type": "markdown",
   "metadata": {},
   "source": [
    "# Exercise 3.6"
   ]
  },
  {
   "cell_type": "code",
   "execution_count": 51,
   "metadata": {},
   "outputs": [
    {
     "data": {
      "image/png": "[encoded data removed]",
      "text/plain": [
       "<Figure size 504x360 with 1 Axes>"
      ]
     },
     "metadata": {
      "needs_background": "light"
     },
     "output_type": "display_data"
    }
   ],
   "source": [
    "# theta에 대한 n의 변화 추이 -> 1-1함수이다.\n",
    "x = np.linspace(0, 40, 1000)\n",
    "plt.figure(figsize = (7,5))\n",
    "plt.plot(x, -4 + np.sqrt((121*x+16)/(x+1)))\n",
    "#plt.axhline(y=0.05, color='r', linestyle='--', linewidth=1)\n",
    "plt.show()"
   ]
  },
  {
   "cell_type": "code",
   "execution_count": 52,
   "metadata": {},
   "outputs": [
    {
     "name": "stderr",
     "output_type": "stream",
     "text": [
      "/Users/jinhwansuk/opt/anaconda3/lib/python3.7/site-packages/ipykernel_launcher.py:4: RuntimeWarning: divide by zero encountered in true_divide\n",
      "  after removing the cwd from sys.path.\n"
     ]
    },
    {
     "data": {
      "image/png": "[encoded data removed]",
      "text/plain": [
       "<Figure size 720x360 with 1 Axes>"
      ]
     },
     "metadata": {
      "needs_background": "light"
     },
     "output_type": "display_data"
    }
   ],
   "source": [
    "#n에 따라 G^2값 변화추이 -> Monotone decreasing\n",
    "n = np.linspace(0, 7, 50)\n",
    "plt.figure(figsize=(10, 5))\n",
    "plt.plot(n, 7*np.log(7/n)+8*np.log(8/(15-n))+15*np.log(15/(8+n)))\n",
    "plt.axhline(y=1.9205, color='r', linestyle='--', linewidth=1)\n",
    "plt.show()"
   ]
  },
  {
   "cell_type": "code",
   "execution_count": 53,
   "metadata": {},
   "outputs": [],
   "source": [
    "def f(x) : \n",
    "    # 위의 플랏에 의해 우리가 구하려는 것은 n : f(n) > 0\n",
    "    return 7*log(x)+8*log(15-x)+15*log(8+x)-68.975\n",
    "def df(x):\n",
    "    return 7/x-8/(15-x)+15/(8+x)\n",
    "\n",
    "def g(x) :\n",
    "    return x*(x+8)/((7-x)*(x+15))\n",
    "\n",
    "def Newton_Raphson(f, df, a, b, tol=1e-9):\n",
    "    from numpy import sign\n",
    "    fa = f(a)\n",
    "    if fa == 0.0: return a\n",
    "    fb = f(b)\n",
    "    if fb == 0.0: return b\n",
    "    x = 0.5*(a + b)\n",
    "    for i in range(30):\n",
    "        fx = f(x)\n",
    "        if fx == 0.0: return x\n",
    "        # Tighten the brackets on the root\n",
    "        if sign(fa) != sign(fx): b = x\n",
    "        else: a = x\n",
    "            \n",
    "        # Try a Newton-Raphson step \n",
    "        dfx = df(x)\n",
    "        # If division by zero, push x out of bounds \n",
    "        try: dx = -fx/dfx\n",
    "        except ZeroDivisionError: dx = b - a\n",
    "        x = x + dx\n",
    "        # If the result is outside the brackets, use bisection\n",
    "        if (b - x)*(x - a) < 0.0:\n",
    "            dx = 0.5*(b - a)\n",
    "            x = a + dx\n",
    "      # Check for convergence\n",
    "    if abs(dx) < tol*max(abs(b),1.0): return x \n",
    "    print('Too many iterations in Newton-Raphson')"
   ]
  },
  {
   "cell_type": "code",
   "execution_count": 54,
   "metadata": {
    "scrolled": true
   },
   "outputs": [
    {
     "name": "stdout",
     "output_type": "stream",
     "text": [
      "해가 맞는지 확인 : f(sol) = 0.00\n",
      "confidence interval : n > 5.49\n",
      "구하려는 theta의 CI : theta > 2.40\n"
     ]
    }
   ],
   "source": [
    "sol = Newton_Raphson(f, df, 4, 6)\n",
    "print(\"해가 맞는지 확인 : f(sol) = %.2f\" %f(sol))\n",
    "print(\"confidence interval : n > %.2f\" %sol)\n",
    "print(\"구하려는 theta의 CI : theta > %.2f\" %g(sol))"
   ]
  },
  {
   "cell_type": "markdown",
   "metadata": {},
   "source": [
    "# Exercise 3.9"
   ]
  },
  {
   "cell_type": "code",
   "execution_count": 91,
   "metadata": {},
   "outputs": [
    {
     "name": "stdout",
     "output_type": "stream",
     "text": [
      "Chi-squared test x2 is 73.71 and p-value is 0.00\n",
      "standard residual : \n",
      " [[ 6.82  0.16 -5.04]\n",
      " [-4.63 -0.43  3.68]\n",
      " [-5.75  0.88  3.48]]\n"
     ]
    }
   ],
   "source": [
    "table = np.array([[301, 359, 213],\n",
    "                [212, 390, 362],\n",
    "                 [8, 44, 48]])\n",
    "cont = Contingency(table)\n",
    "x2, pval = cont.chi2test()\n",
    "print(\"Chi-squared test x2 is %.2f and p-value is %.2f\" %(x2, pval))\n",
    "z = cont.StandardizedResidual()"
   ]
  },
  {
   "cell_type": "markdown",
   "metadata": {},
   "source": [
    "# Exercise 3.12"
   ]
  },
  {
   "cell_type": "code",
   "execution_count": 115,
   "metadata": {},
   "outputs": [
    {
     "name": "stdout",
     "output_type": "stream",
     "text": [
      "Chi-squared test x2 is 8.29 and p-value is 0.02\n",
      "pi+ : [0.45436105 0.54563895]\n",
      "p+j : [0.63438134 0.62170385 0.74391481]\n",
      "muhat : [[393.40567951 407.04665314 275.54766734]\n",
      " [327.59432049 338.95334686 229.45233266]]\n",
      "norm : [[113.39453478 114.98173215  93.13674184]\n",
      " [113.39453478 114.98173215  93.13674184]]\n",
      "standard residual : \n",
      " [[ 2.69 -2.43 -0.26]\n",
      " [-2.69  2.43  0.26]]\n"
     ]
    }
   ],
   "source": [
    "table = np.array([[422, 381, 273],\n",
    "                [299, 365, 232]])\n",
    "cont = Contingency(table)\n",
    "x2, pval = cont.chi2test()\n",
    "print(\"Chi-squared test x2 is %.2f and p-value is %.2f\" %(x2, pval))\n",
    "z = cont.StandardizedResidual()"
   ]
  },
  {
   "cell_type": "markdown",
   "metadata": {},
   "source": [
    "# Exercise 3.15"
   ]
  },
  {
   "cell_type": "code",
   "execution_count": 119,
   "metadata": {},
   "outputs": [
    {
     "name": "stdout",
     "output_type": "stream",
     "text": [
      "Chi-squared test x2 is 11.52 and p-value is 0.24\n",
      "M square test m2 is 6.91 and p-value is 0.009\n"
     ]
    }
   ],
   "source": [
    "table = np.array([[2, 4, 13, 3],\n",
    "                [2, 6, 22, 4],\n",
    "                 [0, 1, 15, 8],\n",
    "                 [0, 3, 13, 8]])\n",
    "cont = Contingency(table)\n",
    "x2, pval = cont.chi2test()\n",
    "print(\"Chi-squared test x2 is %.2f and p-value is %.2f\" %(x2, pval))\n",
    "m2, pval = cont.M2test(row_score = [3, 10, 20, 35], col_score = [1, 3, 4, 5])\n",
    "print(\"M square test m2 is %.2f and p-value is %.3f\" %(m2, pval) )"
   ]
  }
 ],
 "metadata": {
  "kernelspec": {
   "display_name": "Python 3",
   "language": "python",
   "name": "python3"
  },
  "language_info": {
   "codemirror_mode": {
    "name": "ipython",
    "version": 3
   },
   "file_extension": ".py",
   "mimetype": "text/x-python",
   "name": "python",
   "nbconvert_exporter": "python",
   "pygments_lexer": "ipython3",
   "version": "3.7.4"
  }
 },
 "nbformat": 4,
 "nbformat_minor": 2
}
