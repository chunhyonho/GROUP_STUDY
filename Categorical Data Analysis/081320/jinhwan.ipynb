{
 "cells": [
  {
   "cell_type": "code",
   "execution_count": 1,
   "metadata": {},
   "outputs": [],
   "source": [
    "import statsmodels.api as sm\n",
    "import pandas as pd\n",
    "from sklearn import preprocessing\n",
    "import pymc3 as pm\n",
    "import numpy as np\n",
    "from scipy.stats import chi2\n",
    "from patsy import dmatrices\n",
    "\n",
    "from statsmodels.graphics.api import abline_plot\n",
    "import matplotlib.pyplot as plt"
   ]
  },
  {
   "cell_type": "markdown",
   "metadata": {},
   "source": [
    "# Exercise 6.6"
   ]
  },
  {
   "cell_type": "markdown",
   "metadata": {},
   "source": [
    "### Preparing Datasets"
   ]
  },
  {
   "cell_type": "code",
   "execution_count": 2,
   "metadata": {},
   "outputs": [],
   "source": [
    "m = [33, 63, 157, 38, 108, 159]\n",
    "nm = [3271-33, 7256-63, 5065 - 157, 2486-38, 8877-108, 3520-159]\n",
    "s = ['M'] * 3 + ['F'] * 3\n",
    "a = ['<=13', '14-18', '19~'] * 2\n",
    "df = pd.DataFrame({'missing' : m, 'notMissing' : nm, 'sex' : s, 'age' : a})"
   ]
  },
  {
   "cell_type": "code",
   "execution_count": 3,
   "metadata": {},
   "outputs": [
    {
     "data": {
      "text/html": [
       "<div>\n",
       "<style scoped>\n",
       "    .dataframe tbody tr th:only-of-type {\n",
       "        vertical-align: middle;\n",
       "    }\n",
       "\n",
       "    .dataframe tbody tr th {\n",
       "        vertical-align: top;\n",
       "    }\n",
       "\n",
       "    .dataframe thead th {\n",
       "        text-align: right;\n",
       "    }\n",
       "</style>\n",
       "<table border=\"1\" class=\"dataframe\">\n",
       "  <thead>\n",
       "    <tr style=\"text-align: right;\">\n",
       "      <th></th>\n",
       "      <th>missing</th>\n",
       "      <th>notMissing</th>\n",
       "      <th>sex</th>\n",
       "      <th>age</th>\n",
       "    </tr>\n",
       "  </thead>\n",
       "  <tbody>\n",
       "    <tr>\n",
       "      <th>0</th>\n",
       "      <td>33</td>\n",
       "      <td>3238</td>\n",
       "      <td>M</td>\n",
       "      <td>&lt;=13</td>\n",
       "    </tr>\n",
       "    <tr>\n",
       "      <th>1</th>\n",
       "      <td>63</td>\n",
       "      <td>7193</td>\n",
       "      <td>M</td>\n",
       "      <td>14-18</td>\n",
       "    </tr>\n",
       "    <tr>\n",
       "      <th>2</th>\n",
       "      <td>157</td>\n",
       "      <td>4908</td>\n",
       "      <td>M</td>\n",
       "      <td>19~</td>\n",
       "    </tr>\n",
       "    <tr>\n",
       "      <th>3</th>\n",
       "      <td>38</td>\n",
       "      <td>2448</td>\n",
       "      <td>F</td>\n",
       "      <td>&lt;=13</td>\n",
       "    </tr>\n",
       "    <tr>\n",
       "      <th>4</th>\n",
       "      <td>108</td>\n",
       "      <td>8769</td>\n",
       "      <td>F</td>\n",
       "      <td>14-18</td>\n",
       "    </tr>\n",
       "    <tr>\n",
       "      <th>5</th>\n",
       "      <td>159</td>\n",
       "      <td>3361</td>\n",
       "      <td>F</td>\n",
       "      <td>19~</td>\n",
       "    </tr>\n",
       "  </tbody>\n",
       "</table>\n",
       "</div>"
      ],
      "text/plain": [
       "   missing  notMissing sex    age\n",
       "0       33        3238   M   <=13\n",
       "1       63        7193   M  14-18\n",
       "2      157        4908   M    19~\n",
       "3       38        2448   F   <=13\n",
       "4      108        8769   F  14-18\n",
       "5      159        3361   F    19~"
      ]
     },
     "execution_count": 3,
     "metadata": {},
     "output_type": "execute_result"
    }
   ],
   "source": [
    "df"
   ]
  },
  {
   "cell_type": "markdown",
   "metadata": {},
   "source": [
    "### Fitting"
   ]
  },
  {
   "cell_type": "code",
   "execution_count": 4,
   "metadata": {
    "scrolled": true
   },
   "outputs": [
    {
     "name": "stdout",
     "output_type": "stream",
     "text": [
      "                     Generalized Linear Model Regression Results                     \n",
      "=====================================================================================\n",
      "Dep. Variable:     ['missing', 'notMissing']   No. Observations:                    6\n",
      "Model:                                   GLM   Df Residuals:                        2\n",
      "Model Family:                       Binomial   Df Model:                            3\n",
      "Link Function:                         logit   Scale:                          1.0000\n",
      "Method:                                 IRLS   Log-Likelihood:                -18.551\n",
      "Date:                       Thu, 13 Aug 2020   Deviance:                     0.098749\n",
      "Time:                               13:03:48   Pearson chi2:                   0.0989\n",
      "No. Iterations:                            8                                         \n",
      "Covariance Type:                   nonrobust                                         \n",
      "===============================================================================\n",
      "                  coef    std err          z      P>|z|      [0.025      0.975]\n",
      "-------------------------------------------------------------------------------\n",
      "Intercept      -4.3825      0.083    -52.787      0.000      -4.545      -4.220\n",
      "sex[T.M]       -0.3803      0.087     -4.377      0.000      -0.551      -0.210\n",
      "age[T.19~]      1.3259      0.097     13.707      0.000       1.136       1.515\n",
      "age[T.<=13]     0.1980      0.142      1.390      0.164      -0.081       0.477\n",
      "===============================================================================\n"
     ]
    }
   ],
   "source": [
    "y, X = dmatrices('missing + notMissing ~ sex + age', data=df, return_type='dataframe')\n",
    "model = sm.GLM(y, X, family = sm.families.Binomial())\n",
    "res = model.fit()\n",
    "print(res.summary())"
   ]
  },
  {
   "cell_type": "markdown",
   "metadata": {},
   "source": [
    "### Result"
   ]
  },
  {
   "cell_type": "code",
   "execution_count": 5,
   "metadata": {},
   "outputs": [],
   "source": [
    "yhat = res.mu\n",
    "y = df['missing']/(df['missing']+df['notMissing'])"
   ]
  },
  {
   "cell_type": "code",
   "execution_count": 6,
   "metadata": {},
   "outputs": [
    {
     "data": {
      "image/png": "[encoded data removed]",
      "text/plain": [
       "<Figure size 432x288 with 1 Axes>"
      ]
     },
     "metadata": {
      "needs_background": "light"
     },
     "output_type": "display_data"
    }
   ],
   "source": [
    "fig, ax = plt.subplots()\n",
    "ax.scatter(yhat, y)\n",
    "line_fit = sm.OLS(y, sm.add_constant(yhat, prepend=True)).fit()\n",
    "abline_plot(model_results=line_fit, ax=ax)\n",
    "\n",
    "\n",
    "ax.set_title('Model Fit Plot')\n",
    "ax.set_ylabel('Observed values')\n",
    "ax.set_xlabel('Fitted values');"
   ]
  },
  {
   "cell_type": "markdown",
   "metadata": {},
   "source": [
    "# Exercise 6.9"
   ]
  },
  {
   "cell_type": "code",
   "execution_count": 7,
   "metadata": {},
   "outputs": [
    {
     "data": {
      "text/html": [
       "<div>\n",
       "<style scoped>\n",
       "    .dataframe tbody tr th:only-of-type {\n",
       "        vertical-align: middle;\n",
       "    }\n",
       "\n",
       "    .dataframe tbody tr th {\n",
       "        vertical-align: top;\n",
       "    }\n",
       "\n",
       "    .dataframe thead th {\n",
       "        text-align: right;\n",
       "    }\n",
       "</style>\n",
       "<table border=\"1\" class=\"dataframe\">\n",
       "  <thead>\n",
       "    <tr style=\"text-align: right;\">\n",
       "      <th></th>\n",
       "      <th>D</th>\n",
       "      <th>T</th>\n",
       "      <th>Y</th>\n",
       "    </tr>\n",
       "  </thead>\n",
       "  <tbody>\n",
       "    <tr>\n",
       "      <th>0</th>\n",
       "      <td>45</td>\n",
       "      <td>0</td>\n",
       "      <td>0</td>\n",
       "    </tr>\n",
       "    <tr>\n",
       "      <th>1</th>\n",
       "      <td>15</td>\n",
       "      <td>0</td>\n",
       "      <td>0</td>\n",
       "    </tr>\n",
       "    <tr>\n",
       "      <th>2</th>\n",
       "      <td>40</td>\n",
       "      <td>0</td>\n",
       "      <td>1</td>\n",
       "    </tr>\n",
       "    <tr>\n",
       "      <th>3</th>\n",
       "      <td>83</td>\n",
       "      <td>1</td>\n",
       "      <td>1</td>\n",
       "    </tr>\n",
       "    <tr>\n",
       "      <th>4</th>\n",
       "      <td>90</td>\n",
       "      <td>1</td>\n",
       "      <td>1</td>\n",
       "    </tr>\n",
       "  </tbody>\n",
       "</table>\n",
       "</div>"
      ],
      "text/plain": [
       "    D  T  Y\n",
       "0  45  0  0\n",
       "1  15  0  0\n",
       "2  40  0  1\n",
       "3  83  1  1\n",
       "4  90  1  1"
      ]
     },
     "execution_count": 7,
     "metadata": {},
     "output_type": "execute_result"
    }
   ],
   "source": [
    "D = [45, 15, 40, 83, 90, 25, 35, 65, 95, 35, 75, 45,\n",
    "     50, 75, 30, 25, 20, 60, 70, 30, 60, 61, 65, 15,\n",
    "     20, 45, 15, 25, 15, 30, 40, 15, 135, 20, 40]\n",
    "T = [0,0,0,1,1,1,0,0,0,0,0,1,\n",
    "    1,1,0,0,1,1,1,0,0,0,0,1,\n",
    "    1,0,1,0,1,0,0,1,1,1,1]\n",
    "Y = [0,0,1,1,1,1,1,1,1,1,1,1,\n",
    "     0,1,0,1,0,1,1,1,1,0,1,0,\n",
    "     0,1,0,1,0,1,1,0,1,0,0]\n",
    "df= pd.DataFrame({'D' : D, 'T' :T, 'Y': Y})\n",
    "df.head()"
   ]
  },
  {
   "cell_type": "code",
   "execution_count": 8,
   "metadata": {
    "scrolled": true
   },
   "outputs": [],
   "source": [
    "y, X = dmatrices('Y ~ D + T + D:T', data=df, return_type='dataframe')\n",
    "model1 = sm.GLM(y, X, family = sm.families.Binomial())\n",
    "model2 = sm.GLM(y, X[['Intercept', 'D']], family = sm.families.Binomial())\n",
    "model3 = sm.GLM(y, X[['Intercept', 'T']], family = sm.families.Binomial())\n",
    "model4 = sm.GLM(y, X[['Intercept', 'D', 'T']], family = sm.families.Binomial())\n",
    "res1 = model1.fit()\n",
    "res2 = model2.fit()\n",
    "res3 = model3.fit()\n",
    "res4 = model4.fit()"
   ]
  },
  {
   "cell_type": "code",
   "execution_count": 9,
   "metadata": {},
   "outputs": [
    {
     "name": "stdout",
     "output_type": "stream",
     "text": [
      "R-square D, T, DT : 0.435\n",
      "R-square D : 0.307\n",
      "R-square T : 0.101\n",
      "R-square D, T : 0.426\n"
     ]
    }
   ],
   "source": [
    "yhat1 = res1.mu\n",
    "yhat2 = res2.mu\n",
    "yhat3 = res3.mu\n",
    "yhat4 = res4.mu\n",
    "y = df['Y']\n",
    "line_fit1 = sm.OLS(y, sm.add_constant(yhat1, prepend=True)).fit()\n",
    "line_fit2 = sm.OLS(y, sm.add_constant(yhat2, prepend=True)).fit()\n",
    "line_fit3 = sm.OLS(y, sm.add_constant(yhat3, prepend=True)).fit()\n",
    "line_fit4 = sm.OLS(y, sm.add_constant(yhat4, prepend=True)).fit()\n",
    "\n",
    "print(\"R-square D, T, DT : %.3f\" %line_fit1.rsquared)\n",
    "print(\"R-square D : %.3f\" %line_fit2.rsquared)\n",
    "print(\"R-square T : %.3f\" %line_fit3.rsquared)\n",
    "print(\"R-square D, T : %.3f\" %line_fit4.rsquared)"
   ]
  },
  {
   "cell_type": "markdown",
   "metadata": {},
   "source": [
    "# Exercise 6.12"
   ]
  },
  {
   "cell_type": "code",
   "execution_count": 10,
   "metadata": {},
   "outputs": [],
   "source": [
    "Admit = [512, 353, 120, 138, 53, 22,\n",
    "         89, 17, 202, 131, 94, 24]\n",
    "NotAdmit = [313, 207, 205, 279, 138, 351,\n",
    "            19, 8, 391, 244, 299, 317]\n",
    "Sex = ['M']*6 +['F']*6\n",
    "Dept = ['A', 'B', 'C', 'D', 'E', 'F']*2\n",
    "\n",
    "df = pd.DataFrame({'A' : Admit, 'N' : NotAdmit, 'Sex' : Sex, 'Dept' : Dept})\n",
    "y, X = dmatrices('A + N ~ Dept', data = df, return_type='dataframe')"
   ]
  },
  {
   "cell_type": "code",
   "execution_count": 11,
   "metadata": {},
   "outputs": [
    {
     "name": "stdout",
     "output_type": "stream",
     "text": [
      "                 Generalized Linear Model Regression Results                  \n",
      "==============================================================================\n",
      "Dep. Variable:             ['A', 'N']   No. Observations:                   12\n",
      "Model:                            GLM   Df Residuals:                        6\n",
      "Model Family:                Binomial   Df Model:                            5\n",
      "Link Function:                  logit   Scale:                          1.0000\n",
      "Method:                          IRLS   Log-Likelihood:                -45.338\n",
      "Date:                Thu, 13 Aug 2020   Deviance:                       21.736\n",
      "Time:                        13:03:48   Pearson chi2:                     19.9\n",
      "No. Iterations:                     6                                         \n",
      "Covariance Type:            nonrobust                                         \n",
      "==============================================================================\n",
      "                 coef    std err          z      P>|z|      [0.025      0.975]\n",
      "------------------------------------------------------------------------------\n",
      "Intercept      0.5935      0.068      8.679      0.000       0.459       0.727\n",
      "Dept[T.B]     -0.0506      0.110     -0.461      0.645      -0.266       0.164\n",
      "Dept[T.C]     -1.2091      0.097    -12.432      0.000      -1.400      -1.019\n",
      "Dept[T.D]     -1.2583      0.102    -12.395      0.000      -1.457      -1.059\n",
      "Dept[T.E]     -1.6830      0.117    -14.343      0.000      -1.913      -1.453\n",
      "Dept[T.F]     -3.2691      0.167    -19.567      0.000      -3.597      -2.942\n",
      "==============================================================================\n"
     ]
    }
   ],
   "source": [
    "model = sm.GLM(y, X, family = sm.families.Binomial())\n",
    "res = model.fit()\n",
    "print(res.summary())"
   ]
  },
  {
   "cell_type": "code",
   "execution_count": 12,
   "metadata": {},
   "outputs": [
    {
     "name": "stdout",
     "output_type": "stream",
     "text": [
      "standardized residuals :  [-4.15307277 -0.50370774  0.8680662  -0.54587324  1.00053418 -0.6197526\n",
      "  4.15307277  0.50370774 -0.8680662   0.54587324 -1.00053418  0.6197526 ]\n"
     ]
    }
   ],
   "source": [
    "influence = res.get_influence()\n",
    "leverage = influence.hat_matrix_diag\n",
    "standardized_residuals = influence.resid_studentized\n",
    "print(\"standardized residuals : \", standardized_residuals)"
   ]
  },
  {
   "cell_type": "code",
   "execution_count": 13,
   "metadata": {},
   "outputs": [
    {
     "name": "stdout",
     "output_type": "stream",
     "text": [
      "P-value : 0.0028\n"
     ]
    }
   ],
   "source": [
    "print(\"P-value : %.4f\" %chi2.sf(res.pearson_chi2, df = 6))"
   ]
  },
  {
   "cell_type": "code",
   "execution_count": 14,
   "metadata": {
    "scrolled": true
   },
   "outputs": [
    {
     "data": {
      "text/plain": [
       "19.93841337788069"
      ]
     },
     "execution_count": 14,
     "metadata": {},
     "output_type": "execute_result"
    }
   ],
   "source": [
    "(standardized_residuals**2 * (1-leverage)).sum() "
   ]
  },
  {
   "cell_type": "markdown",
   "metadata": {},
   "source": [
    "# Exercise 6.15"
   ]
  },
  {
   "cell_type": "markdown",
   "metadata": {},
   "source": [
    "### Data preparation"
   ]
  },
  {
   "cell_type": "code",
   "execution_count": 15,
   "metadata": {},
   "outputs": [],
   "source": [
    "Cured = [0 , 0, 3, 0, 6, 2, 5, 6, 2, 5]\n",
    "Died = [6, 5, 3, 6, 0, 4, 1, 0, 0, 0]\n",
    "Delay = ['None', '1.5h']*5\n",
    "Level = ['1/8', '1/8', '1/4', '1/4', '1/2', '1/2', '1', '1', '4', '4']\n",
    "df = pd.DataFrame({'C' : Cured, 'D' : Died, 'Delay' : Delay, 'Level' : Level})"
   ]
  },
  {
   "cell_type": "code",
   "execution_count": 16,
   "metadata": {},
   "outputs": [],
   "source": [
    "y, X = dmatrices('C + D ~ Delay + Level', data = df, return_type='dataframe')"
   ]
  },
  {
   "cell_type": "code",
   "execution_count": 17,
   "metadata": {},
   "outputs": [
    {
     "name": "stdout",
     "output_type": "stream",
     "text": [
      "                 Generalized Linear Model Regression Results                  \n",
      "==============================================================================\n",
      "Dep. Variable:             ['C', 'D']   No. Observations:                   10\n",
      "Model:                            GLM   Df Residuals:                        4\n",
      "Model Family:                Binomial   Df Model:                            5\n",
      "Link Function:                  logit   Scale:                          1.0000\n",
      "Method:                          IRLS   Log-Likelihood:                -6.9330\n",
      "Date:                Thu, 13 Aug 2020   Deviance:                       7.4943\n",
      "Time:                        13:03:48   Pearson chi2:                     12.6\n",
      "No. Iterations:                    22                                         \n",
      "Covariance Type:            nonrobust                                         \n",
      "=================================================================================\n",
      "                    coef    std err          z      P>|z|      [0.025      0.975]\n",
      "---------------------------------------------------------------------------------\n",
      "Intercept         1.7130      1.085      1.579      0.114      -0.413       3.839\n",
      "Delay[T.None]     2.5496      1.175      2.170      0.030       0.246       4.853\n",
      "Level[T.1/2]     -2.0034      1.306     -1.534      0.125      -4.563       0.556\n",
      "Level[T.1/4]     -4.4966      1.561     -2.880      0.004      -7.557      -1.436\n",
      "Level[T.1/8]    -27.1234   2.21e+04     -0.001      0.999   -4.33e+04    4.33e+04\n",
      "Level[T.4]       21.4347   2.84e+04      0.001      0.999   -5.56e+04    5.57e+04\n",
      "=================================================================================\n"
     ]
    }
   ],
   "source": [
    "model = sm.GLM(y, X, family = sm.families.Binomial())\n",
    "res0 = model.fit()\n",
    "print(res0.summary())"
   ]
  },
  {
   "cell_type": "markdown",
   "metadata": {},
   "source": [
    "### No intercept term"
   ]
  },
  {
   "cell_type": "code",
   "execution_count": 18,
   "metadata": {},
   "outputs": [
    {
     "name": "stdout",
     "output_type": "stream",
     "text": [
      "                 Generalized Linear Model Regression Results                  \n",
      "==============================================================================\n",
      "Dep. Variable:             ['C', 'D']   No. Observations:                   10\n",
      "Model:                            GLM   Df Residuals:                        5\n",
      "Model Family:                Binomial   Df Model:                            4\n",
      "Link Function:                  logit   Scale:                          1.0000\n",
      "Method:                          IRLS   Log-Likelihood:                -8.6880\n",
      "Date:                Thu, 13 Aug 2020   Deviance:                       11.004\n",
      "Time:                        13:03:48   Pearson chi2:                     8.58\n",
      "No. Iterations:                    22                                         \n",
      "Covariance Type:            nonrobust                                         \n",
      "=================================================================================\n",
      "                    coef    std err          z      P>|z|      [0.025      0.975]\n",
      "---------------------------------------------------------------------------------\n",
      "Delay[T.None]     2.9266      1.106      2.647      0.008       0.760       5.094\n",
      "Level[T.1/2]     -0.3804      0.774     -0.492      0.623      -1.897       1.136\n",
      "Level[T.1/4]     -3.0995      1.214     -2.552      0.011      -5.480      -0.719\n",
      "Level[T.1/8]    -25.6993   2.13e+04     -0.001      0.999   -4.19e+04    4.18e+04\n",
      "Level[T.4]       23.0840   2.76e+04      0.001      0.999   -5.41e+04    5.42e+04\n",
      "=================================================================================\n"
     ]
    }
   ],
   "source": [
    "model = sm.GLM(y, X.iloc[:,1:], family = sm.families.Binomial())\n",
    "res1 = model.fit()\n",
    "print(res1.summary())"
   ]
  },
  {
   "cell_type": "markdown",
   "metadata": {},
   "source": [
    "### Likelihood-ratio test of XY conditional independence using Logistic model"
   ]
  },
  {
   "cell_type": "code",
   "execution_count": 19,
   "metadata": {},
   "outputs": [
    {
     "name": "stdout",
     "output_type": "stream",
     "text": [
      "                 Generalized Linear Model Regression Results                  \n",
      "==============================================================================\n",
      "Dep. Variable:             ['C', 'D']   No. Observations:                   10\n",
      "Model:                            GLM   Df Residuals:                        5\n",
      "Model Family:                Binomial   Df Model:                            4\n",
      "Link Function:                  logit   Scale:                          1.0000\n",
      "Method:                          IRLS   Log-Likelihood:                -10.333\n",
      "Date:                Thu, 13 Aug 2020   Deviance:                       14.294\n",
      "Time:                        13:03:48   Pearson chi2:                     11.1\n",
      "No. Iterations:                    21                                         \n",
      "Covariance Type:            nonrobust                                         \n",
      "================================================================================\n",
      "                   coef    std err          z      P>|z|      [0.025      0.975]\n",
      "--------------------------------------------------------------------------------\n",
      "Intercept        2.3979      1.044      2.296      0.022       0.351       4.445\n",
      "Level[T.1/2]    -1.7047      1.211     -1.408      0.159      -4.078       0.668\n",
      "Level[T.1/4]    -3.4965      1.239     -2.822      0.005      -5.925      -1.068\n",
      "Level[T.1/8]   -24.9640   1.45e+04     -0.002      0.999   -2.85e+04    2.85e+04\n",
      "Level[T.4]      20.1682   1.82e+04      0.001      0.999   -3.57e+04    3.57e+04\n",
      "================================================================================\n"
     ]
    }
   ],
   "source": [
    "model = sm.GLM(y,  X.iloc[:,[0, 2, 3, 4, 5]], family = sm.families.Binomial())\n",
    "res2 = model.fit()\n",
    "print(res2.summary())"
   ]
  },
  {
   "cell_type": "code",
   "execution_count": 20,
   "metadata": {},
   "outputs": [
    {
     "name": "stdout",
     "output_type": "stream",
     "text": [
      "G(M|M0) = 6.799\n",
      "p-value : 0.009\n"
     ]
    }
   ],
   "source": [
    "G = res2.deviance-res0.deviance\n",
    "print(\"G(M|M0) = %.3f\" %G)\n",
    "print(\"p-value : %.3f\" %chi2.sf(G, 1))"
   ]
  },
  {
   "cell_type": "markdown",
   "metadata": {},
   "source": [
    "Thus, XY is conditionally independent"
   ]
  },
  {
   "cell_type": "markdown",
   "metadata": {},
   "source": [
    "# Exercise 7.3"
   ]
  },
  {
   "cell_type": "code",
   "execution_count": 21,
   "metadata": {},
   "outputs": [],
   "source": [
    "from math import exp\n",
    "scaler = preprocessing.StandardScaler()\n",
    "Dosage = [exp(1.6907), exp(1.7242), exp(1.7552), exp(1.7842), exp(1.8113), exp(1.8369), exp(1.8610), exp(1.8839)]\n",
    "Dosage = np.array(Dosage).reshape(-1, 1)\n",
    "Dosage = scaler.fit_transform(Dosage).flatten()\n",
    "Killed = [6, 13, 18, 28, 52, 53, 61, 60]\n",
    "Alive  = [53, 47, 44, 28, 11, 6, 1, 0]\n",
    "df = pd.DataFrame({'A' : Alive, 'K' : Killed, 'D' : Dosage})"
   ]
  },
  {
   "cell_type": "code",
   "execution_count": 23,
   "metadata": {},
   "outputs": [
    {
     "name": "stdout",
     "output_type": "stream",
     "text": [
      "                 Generalized Linear Model Regression Results                  \n",
      "==============================================================================\n",
      "Dep. Variable:             ['A', 'K']   No. Observations:                    8\n",
      "Model:                            GLM   Df Residuals:                        6\n",
      "Model Family:                Binomial   Df Model:                            1\n",
      "Link Function:                  logit   Scale:                          1.0000\n",
      "Method:                          IRLS   Log-Likelihood:                -17.852\n",
      "Date:                Thu, 13 Aug 2020   Deviance:                       9.5067\n",
      "Time:                        13:04:00   Pearson chi2:                     8.45\n",
      "No. Iterations:                     6                                         \n",
      "Covariance Type:            nonrobust                                         \n",
      "==============================================================================\n",
      "                 coef    std err          z      P>|z|      [0.025      0.975]\n",
      "------------------------------------------------------------------------------\n",
      "Intercept     -0.7842      0.140     -5.586      0.000      -1.059      -0.509\n",
      "D             -2.1939      0.187    -11.729      0.000      -2.560      -1.827\n",
      "==============================================================================\n",
      "                 Generalized Linear Model Regression Results                  \n",
      "==============================================================================\n",
      "Dep. Variable:             ['A', 'K']   No. Observations:                    8\n",
      "Model:                            GLM   Df Residuals:                        6\n",
      "Model Family:                Binomial   Df Model:                            1\n",
      "Link Function:                 probit   Scale:                          1.0000\n",
      "Method:                          IRLS   Log-Likelihood:                -17.285\n",
      "Date:                Thu, 13 Aug 2020   Deviance:                       8.3711\n",
      "Time:                        13:04:00   Pearson chi2:                     7.85\n",
      "No. Iterations:                     6                                         \n",
      "Covariance Type:            nonrobust                                         \n",
      "==============================================================================\n",
      "                 coef    std err          z      P>|z|      [0.025      0.975]\n",
      "------------------------------------------------------------------------------\n",
      "Intercept     -0.4643      0.078     -5.966      0.000      -0.617      -0.312\n",
      "D             -1.2635      0.096    -13.194      0.000      -1.451      -1.076\n",
      "==============================================================================\n",
      "                 Generalized Linear Model Regression Results                  \n",
      "==============================================================================\n",
      "Dep. Variable:             ['A', 'K']   No. Observations:                    8\n",
      "Model:                            GLM   Df Residuals:                        6\n",
      "Model Family:                Binomial   Df Model:                            1\n",
      "Link Function:                cloglog   Scale:                          1.0000\n",
      "Method:                          IRLS   Log-Likelihood:                -25.408\n",
      "Date:                Thu, 13 Aug 2020   Deviance:                       24.618\n",
      "Time:                        13:04:00   Pearson chi2:                     22.0\n",
      "No. Iterations:                     7                                         \n",
      "Covariance Type:            nonrobust                                         \n",
      "==============================================================================\n",
      "                 coef    std err          z      P>|z|      [0.025      0.975]\n",
      "------------------------------------------------------------------------------\n",
      "Intercept     -1.0694      0.108     -9.945      0.000      -1.280      -0.859\n",
      "D             -1.3987      0.109    -12.814      0.000      -1.613      -1.185\n",
      "==============================================================================\n"
     ]
    },
    {
     "name": "stderr",
     "output_type": "stream",
     "text": [
      "/Users/jinhwansuk/opt/anaconda3/lib/python3.7/site-packages/ipykernel_launcher.py:2: DeprecationWarning: Calling Family(..) with a link class as argument is deprecated.\n",
      "Use an instance of a link class instead.\n",
      "  \n",
      "/Users/jinhwansuk/opt/anaconda3/lib/python3.7/site-packages/ipykernel_launcher.py:3: DeprecationWarning: Calling Family(..) with a link class as argument is deprecated.\n",
      "Use an instance of a link class instead.\n",
      "  This is separate from the ipykernel package so we can avoid doing imports until\n",
      "/Users/jinhwansuk/opt/anaconda3/lib/python3.7/site-packages/ipykernel_launcher.py:4: DeprecationWarning: Calling Family(..) with a link class as argument is deprecated.\n",
      "Use an instance of a link class instead.\n",
      "  after removing the cwd from sys.path.\n"
     ]
    }
   ],
   "source": [
    "y, X = dmatrices('A + K ~ D', data=df, return_type='dataframe')\n",
    "model_logit = sm.GLM(y, X, family = sm.families.Binomial(link = sm.families.links.logit))\n",
    "model_probit = sm.GLM(y, X, family = sm.families.Binomial(link = sm.families.links.probit))\n",
    "model_CLogLog = sm.GLM(y, X, family = sm.families.Binomial(link = sm.families.links.cloglog))\n",
    "res_logit = model_logit.fit()\n",
    "res_probit = model_probit.fit()\n",
    "res_CLogLog = model_CLogLog.fit()\n",
    "print(res_logit.summary())\n",
    "print(res_probit.summary())\n",
    "print(res_CLogLog.summary())"
   ]
  },
  {
   "cell_type": "code",
   "execution_count": 24,
   "metadata": {},
   "outputs": [
    {
     "data": {
      "image/png": "[encoded data removed]",
      "text/plain": [
       "<Figure size 360x288 with 1 Axes>"
      ]
     },
     "metadata": {
      "needs_background": "light"
     },
     "output_type": "display_data"
    }
   ],
   "source": [
    "plt.figure(figsize = (5, 4))\n",
    "plt.scatter(Dosage, y['A']/(y['A']+y['K']))\n",
    "plt.scatter(Dosage, 1 - y['A']/(y['A']+y['K']))\n",
    "plt.xlabel(\"Dosage\")\n",
    "plt.ylabel(\"ture proportion\")\n",
    "plt.show()"
   ]
  },
  {
   "cell_type": "markdown",
   "metadata": {},
   "source": [
    "# Exercise 7.6"
   ]
  },
  {
   "cell_type": "code",
   "execution_count": 25,
   "metadata": {},
   "outputs": [
    {
     "data": {
      "text/html": [
       "<div>\n",
       "<style scoped>\n",
       "    .dataframe tbody tr th:only-of-type {\n",
       "        vertical-align: middle;\n",
       "    }\n",
       "\n",
       "    .dataframe tbody tr th {\n",
       "        vertical-align: top;\n",
       "    }\n",
       "\n",
       "    .dataframe thead th {\n",
       "        text-align: right;\n",
       "    }\n",
       "</style>\n",
       "<table border=\"1\" class=\"dataframe\">\n",
       "  <thead>\n",
       "    <tr style=\"text-align: right;\">\n",
       "      <th></th>\n",
       "      <th>C</th>\n",
       "      <th>S</th>\n",
       "      <th>W</th>\n",
       "      <th>Sa</th>\n",
       "      <th>Wt</th>\n",
       "      <th>y</th>\n",
       "    </tr>\n",
       "  </thead>\n",
       "  <tbody>\n",
       "    <tr>\n",
       "      <th>0</th>\n",
       "      <td>3</td>\n",
       "      <td>3</td>\n",
       "      <td>28.3</td>\n",
       "      <td>8</td>\n",
       "      <td>3.05</td>\n",
       "      <td>1</td>\n",
       "    </tr>\n",
       "    <tr>\n",
       "      <th>1</th>\n",
       "      <td>4</td>\n",
       "      <td>3</td>\n",
       "      <td>22.5</td>\n",
       "      <td>0</td>\n",
       "      <td>1.55</td>\n",
       "      <td>0</td>\n",
       "    </tr>\n",
       "    <tr>\n",
       "      <th>2</th>\n",
       "      <td>2</td>\n",
       "      <td>1</td>\n",
       "      <td>26.0</td>\n",
       "      <td>9</td>\n",
       "      <td>2.30</td>\n",
       "      <td>1</td>\n",
       "    </tr>\n",
       "    <tr>\n",
       "      <th>3</th>\n",
       "      <td>4</td>\n",
       "      <td>3</td>\n",
       "      <td>24.8</td>\n",
       "      <td>0</td>\n",
       "      <td>2.10</td>\n",
       "      <td>0</td>\n",
       "    </tr>\n",
       "    <tr>\n",
       "      <th>4</th>\n",
       "      <td>4</td>\n",
       "      <td>3</td>\n",
       "      <td>26.0</td>\n",
       "      <td>4</td>\n",
       "      <td>2.60</td>\n",
       "      <td>1</td>\n",
       "    </tr>\n",
       "  </tbody>\n",
       "</table>\n",
       "</div>"
      ],
      "text/plain": [
       "   C  S     W  Sa    Wt  y\n",
       "0  3  3  28.3   8  3.05  1\n",
       "1  4  3  22.5   0  1.55  0\n",
       "2  2  1  26.0   9  2.30  1\n",
       "3  4  3  24.8   0  2.10  0\n",
       "4  4  3  26.0   4  2.60  1"
      ]
     },
     "execution_count": 25,
     "metadata": {},
     "output_type": "execute_result"
    }
   ],
   "source": [
    "crab = pd.read_csv(\"../data/crab.csv\", header = None)\n",
    "crab.columns = ['C', 'S', 'W','Sa', 'Wt', 'y']\n",
    "crab['C'] = crab['C'].apply(str)\n",
    "crab['S'] = crab['S'].apply(str)\n",
    "crab['Wt'] = crab['Wt']/1000\n",
    "crab.head()"
   ]
  },
  {
   "cell_type": "code",
   "execution_count": 26,
   "metadata": {},
   "outputs": [],
   "source": [
    "y, X = dmatrices('y ~ C + Wt', data = crab, return_type='dataframe')\n",
    "X = X.loc[:,['Intercept', 'C[T.4]', 'Wt']]\n",
    "X.columns = ['Intercept', 'B', 'Wt']"
   ]
  },
  {
   "cell_type": "markdown",
   "metadata": {},
   "source": [
    "## Fitting (NUTS)"
   ]
  },
  {
   "cell_type": "code",
   "execution_count": 27,
   "metadata": {},
   "outputs": [
    {
     "name": "stderr",
     "output_type": "stream",
     "text": [
      "Only 100 samples in chain.\n",
      "Auto-assigning NUTS sampler...\n",
      "Initializing NUTS using adapt_diag...\n",
      "Multiprocess sampling (4 chains in 4 jobs)\n",
      "NUTS: [B, Wt, Intercept]\n"
     ]
    },
    {
     "data": {
      "text/html": [
       "\n",
       "    <div>\n",
       "        <style>\n",
       "            /* Turns off some styling */\n",
       "            progress {\n",
       "                /* gets rid of default border in Firefox and Opera. */\n",
       "                border: none;\n",
       "                /* Needs to be in here for Safari polyfill so background images work as expected. */\n",
       "                background-size: auto;\n",
       "            }\n",
       "            .progress-bar-interrupted, .progress-bar-interrupted::-webkit-progress-bar {\n",
       "                background: #F44336;\n",
       "            }\n",
       "        </style>\n",
       "      <progress value='4400' class='' max='4400' style='width:300px; height:20px; vertical-align: middle;'></progress>\n",
       "      100.00% [4400/4400 00:03<00:00 Sampling 4 chains, 0 divergences]\n",
       "    </div>\n",
       "    "
      ],
      "text/plain": [
       "<IPython.core.display.HTML object>"
      ]
     },
     "metadata": {},
     "output_type": "display_data"
    },
    {
     "name": "stderr",
     "output_type": "stream",
     "text": [
      "Sampling 4 chains for 1_000 tune and 100 draw iterations (4_000 + 400 draws total) took 23 seconds.\n"
     ]
    }
   ],
   "source": [
    "with pm.Model() as model:\n",
    "    pm.glm.GLM.from_formula('y ~ Wt + B', data = X, family = pm.glm.families.Binomial())\n",
    "    trace = pm.sample(100, tune=1000, init='adapt_diag')"
   ]
  },
  {
   "cell_type": "markdown",
   "metadata": {},
   "source": [
    "## Result"
   ]
  },
  {
   "cell_type": "code",
   "execution_count": 28,
   "metadata": {},
   "outputs": [
    {
     "name": "stderr",
     "output_type": "stream",
     "text": [
      "/Users/jinhwansuk/opt/anaconda3/lib/python3.7/site-packages/arviz/data/io_pymc3.py:89: FutureWarning: Using `from_pymc3` without the model will be deprecated in a future release. Not using the model will return less accurate and less useful results. Make sure you use the model argument or call from_pymc3 within a model context.\n",
      "  FutureWarning,\n",
      "/Users/jinhwansuk/opt/anaconda3/lib/python3.7/site-packages/arviz/data/io_pymc3.py:89: FutureWarning: Using `from_pymc3` without the model will be deprecated in a future release. Not using the model will return less accurate and less useful results. Make sure you use the model argument or call from_pymc3 within a model context.\n",
      "  FutureWarning,\n",
      "/Users/jinhwansuk/opt/anaconda3/lib/python3.7/site-packages/arviz/data/io_pymc3.py:89: FutureWarning: Using `from_pymc3` without the model will be deprecated in a future release. Not using the model will return less accurate and less useful results. Make sure you use the model argument or call from_pymc3 within a model context.\n",
      "  FutureWarning,\n"
     ]
    },
    {
     "data": {
      "image/png": "[encoded data removed]",
      "text/plain": [
       "<Figure size 864x432 with 6 Axes>"
      ]
     },
     "metadata": {
      "needs_background": "light"
     },
     "output_type": "display_data"
    }
   ],
   "source": [
    "def plot_traces(traces, retain=0):\n",
    "    '''\n",
    "    Convenience function:\n",
    "    Plot traces with overlaid means and values\n",
    "    '''\n",
    "\n",
    "    ax = pm.traceplot(traces[-retain:],\n",
    "                      lines=tuple([(k, {}, v['mean'])\n",
    "                                   for k, v in pm.summary(traces[-retain:]).iterrows()]))\n",
    "\n",
    "    for i, mn in enumerate(pm.summary(traces[-retain:])['mean']):\n",
    "        ax[i,0].annotate('{:.2f}'.format(mn), xy=(mn,0), xycoords='data'\n",
    "                    ,xytext=(5,10), textcoords='offset points', rotation=90\n",
    "                    ,va='bottom', fontsize='large', color='#AA0022')\n",
    "plot_traces(trace);"
   ]
  },
  {
   "cell_type": "markdown",
   "metadata": {},
   "source": [
    "# Frequentist logistic regression"
   ]
  },
  {
   "cell_type": "code",
   "execution_count": 29,
   "metadata": {},
   "outputs": [
    {
     "name": "stdout",
     "output_type": "stream",
     "text": [
      "                 Generalized Linear Model Regression Results                  \n",
      "==============================================================================\n",
      "Dep. Variable:                      y   No. Observations:                  173\n",
      "Model:                            GLM   Df Residuals:                      170\n",
      "Model Family:                Binomial   Df Model:                            2\n",
      "Link Function:                  logit   Scale:                          1.0000\n",
      "Method:                          IRLS   Log-Likelihood:                -97.867\n",
      "Date:                Thu, 13 Aug 2020   Deviance:                       195.73\n",
      "Time:                        13:05:43   Pearson chi2:                     168.\n",
      "No. Iterations:                     5                                         \n",
      "Covariance Type:            nonrobust                                         \n",
      "==============================================================================\n",
      "                 coef    std err          z      P>|z|      [0.025      0.975]\n",
      "------------------------------------------------------------------------------\n",
      "Intercept     -3.6815      0.905     -4.070      0.000      -5.454      -1.908\n",
      "B             -0.0249      0.395     -0.063      0.950      -0.798       0.749\n",
      "Wt             1.8123      0.379      4.777      0.000       1.069       2.556\n",
      "==============================================================================\n"
     ]
    },
    {
     "name": "stderr",
     "output_type": "stream",
     "text": [
      "/Users/jinhwansuk/opt/anaconda3/lib/python3.7/site-packages/ipykernel_launcher.py:1: DeprecationWarning: Calling Family(..) with a link class as argument is deprecated.\n",
      "Use an instance of a link class instead.\n",
      "  \"\"\"Entry point for launching an IPython kernel.\n"
     ]
    }
   ],
   "source": [
    "model = sm.GLM(y, X, family = sm.families.Binomial(link = sm.families.links.logit))\n",
    "res = model.fit()\n",
    "print(res.summary())"
   ]
  },
  {
   "cell_type": "markdown",
   "metadata": {},
   "source": [
    "# Exercise 7.12"
   ]
  },
  {
   "cell_type": "code",
   "execution_count": 30,
   "metadata": {},
   "outputs": [],
   "source": [
    "Cured = [0 , 0, 3, 0, 6, 2, 5, 6, 2, 5]\n",
    "Died = [6, 5, 3, 6, 0, 4, 1, 0, 0, 0]\n",
    "Delay = ['None', '1.5h']*5\n",
    "Level = ['1/8', '1/8', '1/4', '1/4', '1/2', '1/2', '1', '1', '4', '4']\n",
    "df = pd.DataFrame({'C' : Cured, 'D' : Died, 'Delay' : Delay, 'Level' : Level})"
   ]
  },
  {
   "cell_type": "code",
   "execution_count": 31,
   "metadata": {},
   "outputs": [
    {
     "data": {
      "text/html": [
       "<div>\n",
       "<style scoped>\n",
       "    .dataframe tbody tr th:only-of-type {\n",
       "        vertical-align: middle;\n",
       "    }\n",
       "\n",
       "    .dataframe tbody tr th {\n",
       "        vertical-align: top;\n",
       "    }\n",
       "\n",
       "    .dataframe thead th {\n",
       "        text-align: right;\n",
       "    }\n",
       "</style>\n",
       "<table border=\"1\" class=\"dataframe\">\n",
       "  <thead>\n",
       "    <tr style=\"text-align: right;\">\n",
       "      <th></th>\n",
       "      <th>C</th>\n",
       "      <th>D</th>\n",
       "      <th>Delay</th>\n",
       "      <th>Level</th>\n",
       "    </tr>\n",
       "  </thead>\n",
       "  <tbody>\n",
       "    <tr>\n",
       "      <th>0</th>\n",
       "      <td>0</td>\n",
       "      <td>6</td>\n",
       "      <td>None</td>\n",
       "      <td>1/8</td>\n",
       "    </tr>\n",
       "    <tr>\n",
       "      <th>1</th>\n",
       "      <td>0</td>\n",
       "      <td>5</td>\n",
       "      <td>1.5h</td>\n",
       "      <td>1/8</td>\n",
       "    </tr>\n",
       "    <tr>\n",
       "      <th>2</th>\n",
       "      <td>3</td>\n",
       "      <td>3</td>\n",
       "      <td>None</td>\n",
       "      <td>1/4</td>\n",
       "    </tr>\n",
       "    <tr>\n",
       "      <th>3</th>\n",
       "      <td>0</td>\n",
       "      <td>6</td>\n",
       "      <td>1.5h</td>\n",
       "      <td>1/4</td>\n",
       "    </tr>\n",
       "    <tr>\n",
       "      <th>4</th>\n",
       "      <td>6</td>\n",
       "      <td>0</td>\n",
       "      <td>None</td>\n",
       "      <td>1/2</td>\n",
       "    </tr>\n",
       "    <tr>\n",
       "      <th>5</th>\n",
       "      <td>2</td>\n",
       "      <td>4</td>\n",
       "      <td>1.5h</td>\n",
       "      <td>1/2</td>\n",
       "    </tr>\n",
       "    <tr>\n",
       "      <th>6</th>\n",
       "      <td>5</td>\n",
       "      <td>1</td>\n",
       "      <td>None</td>\n",
       "      <td>1</td>\n",
       "    </tr>\n",
       "    <tr>\n",
       "      <th>7</th>\n",
       "      <td>6</td>\n",
       "      <td>0</td>\n",
       "      <td>1.5h</td>\n",
       "      <td>1</td>\n",
       "    </tr>\n",
       "    <tr>\n",
       "      <th>8</th>\n",
       "      <td>2</td>\n",
       "      <td>0</td>\n",
       "      <td>None</td>\n",
       "      <td>4</td>\n",
       "    </tr>\n",
       "    <tr>\n",
       "      <th>9</th>\n",
       "      <td>5</td>\n",
       "      <td>0</td>\n",
       "      <td>1.5h</td>\n",
       "      <td>4</td>\n",
       "    </tr>\n",
       "  </tbody>\n",
       "</table>\n",
       "</div>"
      ],
      "text/plain": [
       "   C  D Delay Level\n",
       "0  0  6  None   1/8\n",
       "1  0  5  1.5h   1/8\n",
       "2  3  3  None   1/4\n",
       "3  0  6  1.5h   1/4\n",
       "4  6  0  None   1/2\n",
       "5  2  4  1.5h   1/2\n",
       "6  5  1  None     1\n",
       "7  6  0  1.5h     1\n",
       "8  2  0  None     4\n",
       "9  5  0  1.5h     4"
      ]
     },
     "execution_count": 31,
     "metadata": {},
     "output_type": "execute_result"
    }
   ],
   "source": [
    "df"
   ]
  },
  {
   "cell_type": "code",
   "execution_count": null,
   "metadata": {},
   "outputs": [],
   "source": []
  }
 ],
 "metadata": {
  "kernelspec": {
   "display_name": "Python 3",
   "language": "python",
   "name": "python3"
  },
  "language_info": {
   "codemirror_mode": {
    "name": "ipython",
    "version": 3
   },
   "file_extension": ".py",
   "mimetype": "text/x-python",
   "name": "python",
   "nbconvert_exporter": "python",
   "pygments_lexer": "ipython3",
   "version": "3.7.4"
  }
 },
 "nbformat": 4,
 "nbformat_minor": 2
}
