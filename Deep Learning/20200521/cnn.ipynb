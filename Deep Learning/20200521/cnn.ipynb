{
  "nbformat": 4,
  "nbformat_minor": 0,
  "metadata": {
    "colab": {
      "name": "cnn.ipynb",
      "provenance": []
    },
    "kernelspec": {
      "name": "python3",
      "display_name": "Python 3"
    }
  },
  "cells": [
    {
      "cell_type": "code",
      "metadata": {
        "id": "HJPpl-xN98j0",
        "colab_type": "code",
        "outputId": "36e43c7d-c5e3-4b25-e568-83c7cb0d7782",
        "colab": {
          "base_uri": "https://localhost:8080/",
          "height": 53
        }
      },
      "source": [
        "import numpy as np\n",
        "import matplotlib.pyplot as plt\n",
        "import tensorflow as tf\n",
        "import time\n",
        "\n",
        "\n",
        "\n",
        "(train_images,train_labels), (test_images,test_labels) = tf.keras.datasets.mnist.load_data()\n",
        "\n",
        "\n"
      ],
      "execution_count": 0,
      "outputs": [
        {
          "output_type": "stream",
          "text": [
            "Downloading data from https://storage.googleapis.com/tensorflow/tf-keras-datasets/mnist.npz\n",
            "11493376/11490434 [==============================] - 0s 0us/step\n"
          ],
          "name": "stdout"
        }
      ]
    },
    {
      "cell_type": "code",
      "metadata": {
        "id": "Lu7_5brI-_lk",
        "colab_type": "code",
        "colab": {}
      },
      "source": [
        "train_images = train_images.reshape(train_images.shape[0], 28, 28, 1).astype('float32')\n",
        "test_images = test_images.reshape(test_images.shape[0], 28, 28, 1).astype('float32')\n",
        "train_images, test_images = train_images / 255.0, test_images / 255.0\n",
        "TRAIN_BUF = 60000\n",
        "BATCH_SIZE = 100\n",
        "\n",
        "TEST_BUF = 10000\n",
        "\n",
        "train_dataset = tf.data.Dataset.from_tensor_slices((train_images,train_labels)).shuffle(TRAIN_BUF).batch(BATCH_SIZE)\n",
        "test_dataset = tf.data.Dataset.from_tensor_slices((test_images,test_labels)).shuffle(TEST_BUF).batch(BATCH_SIZE)"
      ],
      "execution_count": 0,
      "outputs": []
    },
    {
      "cell_type": "code",
      "metadata": {
        "id": "Mr_y4M2nC93y",
        "colab_type": "code",
        "outputId": "c7c10e5b-d70f-4d9a-f1b6-49acfab13860",
        "colab": {
          "base_uri": "https://localhost:8080/",
          "height": 629
        }
      },
      "source": [
        "\n",
        "train1,label1=iter(train_dataset).next()\n",
        "print(label1.shape)\n",
        "model = tf.keras.Sequential()\n",
        "model.add(tf.keras.layers.Conv2D(\n",
        "                filters=32, kernel_size=(3,3), activation='relu',input_shape=(28,28,1)))\n",
        "model.add(tf.keras.layers.MaxPooling2D((2, 2)))\n",
        "\n",
        "model.add(tf.keras.layers.Flatten())\n",
        "model.add((tf.keras.layers.Dense(100,activation='relu')))\n",
        "model.add(tf.keras.layers.Dense(10))\n",
        "model.summary()\n",
        "optimizer = tf.keras.optimizers.Adam(1e-4)\n",
        "\n",
        "\n",
        "def compute_loss(model, x,y):\n",
        "  pred=model(x)\n",
        "  \n",
        "  loss=tf.keras.losses.SparseCategoricalCrossentropy(from_logits=True)\n",
        "  loss=loss(y,pred)\n",
        "  return loss\n",
        "def compute_apply_gradients(model, x,y, optimizer):\n",
        "  with tf.GradientTape() as tape:\n",
        "    loss=compute_loss(model,x,y)\n",
        "  gradients = tape.gradient(loss, model.trainable_variables)\n",
        "  optimizer.apply_gradients(zip(gradients, model.trainable_variables))\n",
        "  return loss\n",
        "\n",
        "\n",
        "train_loss_results = []\n",
        "train_accuracy_results = []\n",
        "\n",
        "epoch = 15\n",
        "\n",
        "for i in range(epoch) :\n",
        "  start_time = time.time()\n",
        "  epoch_loss_avg = tf.keras.metrics.Mean()\n",
        "  epoch_accuracy = tf.keras.metrics.SparseCategoricalAccuracy()\n",
        "  for train_x,train_y in train_dataset :\n",
        "    loss_value = compute_apply_gradients(model,train_x,train_y,optimizer)\n",
        "  end_time = time.time()\n",
        "  epoch_loss_avg.update_state(loss_value)\n",
        "  epoch_accuracy.update_state(train_y, model(train_x, training=True))\n",
        "  train_loss_results.append(epoch_loss_avg.result())\n",
        "  train_accuracy_results.append(epoch_accuracy.result())\n",
        "  print(\"Epoch {:03d}: Loss: {:.3f}, Accuracy: {:.3%} Time:{}\".format(epoch,\n",
        "                                                                epoch_loss_avg.result(),\n",
        "                                                                epoch_accuracy.result(),end_time-start_time))\n",
        " "
      ],
      "execution_count": 0,
      "outputs": [
        {
          "output_type": "stream",
          "text": [
            "(100,)\n",
            "Model: \"sequential_2\"\n",
            "_________________________________________________________________\n",
            "Layer (type)                 Output Shape              Param #   \n",
            "=================================================================\n",
            "conv2d_3 (Conv2D)            (None, 26, 26, 32)        320       \n",
            "_________________________________________________________________\n",
            "max_pooling2d_3 (MaxPooling2 (None, 13, 13, 32)        0         \n",
            "_________________________________________________________________\n",
            "flatten_2 (Flatten)          (None, 5408)              0         \n",
            "_________________________________________________________________\n",
            "dense_4 (Dense)              (None, 100)               540900    \n",
            "_________________________________________________________________\n",
            "dense_5 (Dense)              (None, 10)                1010      \n",
            "=================================================================\n",
            "Total params: 542,230\n",
            "Trainable params: 542,230\n",
            "Non-trainable params: 0\n",
            "_________________________________________________________________\n",
            "Epoch 015: Loss: 0.214, Accuracy: 93.000% Time:33.396156787872314\n",
            "Epoch 015: Loss: 0.264, Accuracy: 93.000% Time:33.31225776672363\n",
            "Epoch 015: Loss: 0.359, Accuracy: 91.000% Time:33.31285834312439\n",
            "Epoch 015: Loss: 0.066, Accuracy: 99.000% Time:33.08220171928406\n",
            "Epoch 015: Loss: 0.117, Accuracy: 97.000% Time:33.13044834136963\n",
            "Epoch 015: Loss: 0.044, Accuracy: 100.000% Time:33.316062688827515\n",
            "Epoch 015: Loss: 0.138, Accuracy: 95.000% Time:33.33774995803833\n",
            "Epoch 015: Loss: 0.080, Accuracy: 97.000% Time:33.24169850349426\n",
            "Epoch 015: Loss: 0.076, Accuracy: 98.000% Time:33.736600160598755\n",
            "Epoch 015: Loss: 0.083, Accuracy: 97.000% Time:33.19902157783508\n",
            "Epoch 015: Loss: 0.040, Accuracy: 98.000% Time:32.90195417404175\n",
            "Epoch 015: Loss: 0.041, Accuracy: 99.000% Time:32.85619282722473\n",
            "Epoch 015: Loss: 0.029, Accuracy: 99.000% Time:33.00348472595215\n",
            "Epoch 015: Loss: 0.088, Accuracy: 98.000% Time:32.83468437194824\n",
            "Epoch 015: Loss: 0.070, Accuracy: 98.000% Time:33.18537712097168\n"
          ],
          "name": "stdout"
        }
      ]
    },
    {
      "cell_type": "code",
      "metadata": {
        "id": "88KkaVVFDgHg",
        "colab_type": "code",
        "outputId": "e66bb086-c4e0-4225-975d-9e8dd593eb87",
        "colab": {
          "base_uri": "https://localhost:8080/",
          "height": 35
        }
      },
      "source": [
        "test_accuracy = tf.keras.metrics.Accuracy()\n",
        "\n",
        "for (x, y) in test_dataset:\n",
        "  # training=False is needed only if there are layers with different\n",
        "  # behavior during training versus inference (e.g. Dropout).\n",
        "  logits = model(x, training=False)\n",
        "  prediction = tf.argmax(logits, axis=1, output_type=tf.int32)\n",
        "  test_accuracy(prediction, y)\n",
        "\n",
        "print(\"Test set accuracy: {:.3%}\".format(test_accuracy.result()))"
      ],
      "execution_count": 0,
      "outputs": [
        {
          "output_type": "stream",
          "text": [
            "Test set accuracy: 98.190%\n"
          ],
          "name": "stdout"
        }
      ]
    },
    {
      "cell_type": "code",
      "metadata": {
        "id": "2tp3BGO3EYdL",
        "colab_type": "code",
        "outputId": "c3f0d4ee-ad9b-497f-b931-1e1893a4ed3a",
        "colab": {
          "base_uri": "https://localhost:8080/",
          "height": 1000
        }
      },
      "source": [
        "###Now I want to optimize input! \n",
        "image =tf.random.uniform (shape=(1,28,28,1), minval=0, maxval=1)\n",
        "image=tf.Variable(image,trainable=True)\n",
        "print(tf.norm(image))\n",
        "plt.imshow(image[0,:,:,0])\n",
        "plt.show()\n",
        "\n",
        "new = image/tf.norm(image)\n",
        "value =np.random.uniform ( low=0, high=1,size=784)\n",
        "\n",
        "value = tf.constant_initializer(value)\n",
        "newmodel = tf.keras.Sequential(tf.keras.layers.Dense(784,use_bias=False,kernel_initializer=value,input_shape=(1,))\n",
        ")\n",
        "newmodel.add(tf.keras.layers.Reshape((28,28,1)))\n",
        "\n",
        "newmodel.add(model)\n",
        "\n",
        "\n",
        "newmodel.layers[2].trainable = False\n",
        "newmodel.summary()\n",
        "one=tf.ones((1,1))\n",
        "newmodel(one)\n",
        "\n",
        "def compute_loss(model, x,y):\n",
        "  pred=model(x)\n",
        "  \n",
        "  loss=tf.keras.losses.SparseCategoricalCrossentropy(from_logits=True)\n",
        "  loss=loss(y,pred)\n",
        "  return loss\n",
        "def compute_apply_gradients(model, x,y, optimizer):\n",
        "  with tf.GradientTape() as tape:\n",
        "    loss=compute_loss(model,x,y)\n",
        "  gradients = tape.gradient(loss, model.trainable_variables)\n",
        "  optimizer.apply_gradients(zip(gradients, model.trainable_variables))\n",
        "  return loss\n",
        "label = 0*tf.ones((1,1))\n",
        "\n",
        "seq = newmodel.layers[2].get_weights()\n",
        "\n",
        "\n",
        "\n",
        "\n",
        "\n",
        "compute_loss(newmodel,one,label)\n",
        "optimizer = tf.keras.optimizers.Adam(1e-4)\n",
        "for i in range(3000) :\n",
        "  loss =compute_apply_gradients(newmodel,one,label,optimizer)\n",
        "  weight1= newmodel.layers[0].get_weights()\n",
        "  weight1=weight1/tf.norm(weight1)\n",
        "  newmodel.layers[0].set_weights(weight1)\n",
        "  if i%100 == 0 : \n",
        "    print(\"Epoch {:03d}: Loss: {:.3f}\" .format(i,loss) )\n",
        "first_layer_weights = newmodel.layers[0].get_weights()[0]\n"
      ],
      "execution_count": 0,
      "outputs": [
        {
          "output_type": "stream",
          "text": [
            "tf.Tensor(16.717367, shape=(), dtype=float32)\n"
          ],
          "name": "stdout"
        },
        {
          "output_type": "display_data",
          "data": {
            "image/png": "[encoded data removed]",
            "text/plain": [
              "<Figure size 432x288 with 1 Axes>"
            ]
          },
          "metadata": {
            "tags": [],
            "needs_background": "light"
          }
        },
        {
          "output_type": "stream",
          "text": [
            "Model: \"sequential_37\"\n",
            "_________________________________________________________________\n",
            "Layer (type)                 Output Shape              Param #   \n",
            "=================================================================\n",
            "dense_38 (Dense)             (None, 784)               784       \n",
            "_________________________________________________________________\n",
            "reshape_27 (Reshape)         (None, 28, 28, 1)         0         \n",
            "_________________________________________________________________\n",
            "sequential_2 (Sequential)    (None, 10)                542230    \n",
            "=================================================================\n",
            "Total params: 543,014\n",
            "Trainable params: 784\n",
            "Non-trainable params: 542,230\n",
            "_________________________________________________________________\n",
            "Epoch 000: Loss: 43.180\n",
            "Epoch 100: Loss: 5.787\n",
            "Epoch 200: Loss: 4.428\n",
            "Epoch 300: Loss: 3.246\n",
            "Epoch 400: Loss: 2.511\n",
            "Epoch 500: Loss: 2.029\n",
            "Epoch 600: Loss: 1.695\n",
            "Epoch 700: Loss: 1.478\n",
            "Epoch 800: Loss: 1.337\n",
            "Epoch 900: Loss: 1.246\n",
            "Epoch 1000: Loss: 1.189\n",
            "Epoch 1100: Loss: 1.145\n",
            "Epoch 1200: Loss: 1.117\n",
            "Epoch 1300: Loss: 1.100\n",
            "Epoch 1400: Loss: 1.095\n",
            "Epoch 1500: Loss: 1.094\n",
            "Epoch 1600: Loss: 1.096\n",
            "Epoch 1700: Loss: 1.100\n",
            "Epoch 1800: Loss: 1.103\n",
            "Epoch 1900: Loss: 1.104\n",
            "Epoch 2000: Loss: 1.103\n",
            "Epoch 2100: Loss: 1.104\n",
            "Epoch 2200: Loss: 1.107\n",
            "Epoch 2300: Loss: 1.111\n",
            "Epoch 2400: Loss: 1.115\n",
            "Epoch 2500: Loss: 1.120\n",
            "Epoch 2600: Loss: 1.124\n",
            "Epoch 2700: Loss: 1.130\n",
            "Epoch 2800: Loss: 1.136\n",
            "Epoch 2900: Loss: 1.140\n"
          ],
          "name": "stdout"
        }
      ]
    },
    {
      "cell_type": "code",
      "metadata": {
        "id": "olA0KLrLUrSM",
        "colab_type": "code",
        "outputId": "172eac92-043a-4271-96a0-6455a7d8aa52",
        "colab": {
          "base_uri": "https://localhost:8080/",
          "height": 319
        }
      },
      "source": [
        "print(first_layer_weights.shape)\n",
        "img = first_layer_weights.reshape(28,28)\n",
        "print(tf.norm(img))\n",
        "plt.imshow(img)"
      ],
      "execution_count": 0,
      "outputs": [
        {
          "output_type": "stream",
          "text": [
            "(1, 784)\n",
            "tf.Tensor(1.0, shape=(), dtype=float32)\n"
          ],
          "name": "stdout"
        },
        {
          "output_type": "execute_result",
          "data": {
            "text/plain": [
              "<matplotlib.image.AxesImage at 0x7f06fcb8f240>"
            ]
          },
          "metadata": {
            "tags": []
          },
          "execution_count": 101
        },
        {
          "output_type": "display_data",
          "data": {
            "image/png": "[encoded data removed]",
            "text/plain": [
              "<Figure size 432x288 with 1 Axes>"
            ]
          },
          "metadata": {
            "tags": [],
            "needs_background": "light"
          }
        }
      ]
    }
  ]
}